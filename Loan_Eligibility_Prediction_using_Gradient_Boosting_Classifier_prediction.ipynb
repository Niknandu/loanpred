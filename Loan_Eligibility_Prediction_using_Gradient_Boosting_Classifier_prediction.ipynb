{
 "cells": [
  {
   "cell_type": "code",
   "execution_count": null,
   "metadata": {
    "colab": {
     "base_uri": "https://localhost:8080/"
    },
    "executionInfo": {
     "elapsed": 47037,
     "status": "ok",
     "timestamp": 1644400652102,
     "user": {
      "displayName": "Siddhi Jadhav",
      "photoUrl": "https://lh3.googleusercontent.com/a/default-user=s64",
      "userId": "08402691859170607175"
     },
     "user_tz": -330
    },
    "id": "vFg_qb7xdl2a",
    "outputId": "576bed18-19e4-43ca-afa7-6657ea24784b"
   },
   "outputs": [
    {
     "name": "stdout",
     "output_type": "stream",
     "text": [
      "Requirement already satisfied: fancyimpute==0.7.0 in /usr/local/lib/python3.7/dist-packages (0.7.0)\n",
      "Requirement already satisfied: nose in /usr/local/lib/python3.7/dist-packages (from fancyimpute==0.7.0) (1.3.7)\n",
      "Requirement already satisfied: pytest in /usr/local/lib/python3.7/dist-packages (from fancyimpute==0.7.0) (3.6.4)\n",
      "Requirement already satisfied: cvxpy in /usr/local/lib/python3.7/dist-packages (from fancyimpute==0.7.0) (1.1.13)\n",
      "Collecting scikit-learn>=0.24.2\n",
      "  Using cached scikit_learn-1.0.2-cp37-cp37m-manylinux_2_17_x86_64.manylinux2014_x86_64.whl (24.8 MB)\n",
      "Requirement already satisfied: cvxopt in /usr/local/lib/python3.7/dist-packages (from fancyimpute==0.7.0) (1.2.7)\n",
      "Requirement already satisfied: knnimpute>=0.1.0 in /usr/local/lib/python3.7/dist-packages (from fancyimpute==0.7.0) (0.1.0)\n",
      "Requirement already satisfied: numpy>=1.10 in /usr/local/lib/python3.7/dist-packages (from knnimpute>=0.1.0->fancyimpute==0.7.0) (1.19.5)\n",
      "Requirement already satisfied: six in /usr/local/lib/python3.7/dist-packages (from knnimpute>=0.1.0->fancyimpute==0.7.0) (1.15.0)\n",
      "Requirement already satisfied: scipy>=1.1.0 in /usr/local/lib/python3.7/dist-packages (from scikit-learn>=0.24.2->fancyimpute==0.7.0) (1.6.2)\n",
      "Requirement already satisfied: joblib>=0.11 in /usr/local/lib/python3.7/dist-packages (from scikit-learn>=0.24.2->fancyimpute==0.7.0) (1.0.1)\n",
      "Requirement already satisfied: threadpoolctl>=2.0.0 in /usr/local/lib/python3.7/dist-packages (from scikit-learn>=0.24.2->fancyimpute==0.7.0) (3.1.0)\n",
      "Requirement already satisfied: ecos>=2 in /usr/local/lib/python3.7/dist-packages (from cvxpy->fancyimpute==0.7.0) (2.0.10)\n",
      "Requirement already satisfied: scs>=1.1.6 in /usr/local/lib/python3.7/dist-packages (from cvxpy->fancyimpute==0.7.0) (3.1.0)\n",
      "Requirement already satisfied: osqp>=0.4.1 in /usr/local/lib/python3.7/dist-packages (from cvxpy->fancyimpute==0.7.0) (0.6.2.post0)\n",
      "Requirement already satisfied: qdldl in /usr/local/lib/python3.7/dist-packages (from osqp>=0.4.1->cvxpy->fancyimpute==0.7.0) (0.1.5.post0)\n",
      "Requirement already satisfied: more-itertools>=4.0.0 in /usr/local/lib/python3.7/dist-packages (from pytest->fancyimpute==0.7.0) (8.12.0)\n",
      "Requirement already satisfied: attrs>=17.4.0 in /usr/local/lib/python3.7/dist-packages (from pytest->fancyimpute==0.7.0) (21.4.0)\n",
      "Requirement already satisfied: pluggy<0.8,>=0.5 in /usr/local/lib/python3.7/dist-packages (from pytest->fancyimpute==0.7.0) (0.7.1)\n",
      "Requirement already satisfied: py>=1.5.0 in /usr/local/lib/python3.7/dist-packages (from pytest->fancyimpute==0.7.0) (1.11.0)\n",
      "Requirement already satisfied: atomicwrites>=1.0 in /usr/local/lib/python3.7/dist-packages (from pytest->fancyimpute==0.7.0) (1.4.0)\n",
      "Requirement already satisfied: setuptools in /usr/local/lib/python3.7/dist-packages (from pytest->fancyimpute==0.7.0) (57.4.0)\n",
      "Installing collected packages: scikit-learn\n",
      "  Attempting uninstall: scikit-learn\n",
      "    Found existing installation: scikit-learn 0.24.1\n",
      "    Uninstalling scikit-learn-0.24.1:\n",
      "      Successfully uninstalled scikit-learn-0.24.1\n",
      "Successfully installed scikit-learn-1.0.2\n",
      "Requirement already satisfied: imblearn==0.0 in /usr/local/lib/python3.7/dist-packages (0.0)\n",
      "Requirement already satisfied: imbalanced-learn in /usr/local/lib/python3.7/dist-packages (from imblearn==0.0) (0.8.1)\n",
      "Requirement already satisfied: scipy>=0.19.1 in /usr/local/lib/python3.7/dist-packages (from imbalanced-learn->imblearn==0.0) (1.6.2)\n",
      "Requirement already satisfied: scikit-learn>=0.24 in /usr/local/lib/python3.7/dist-packages (from imbalanced-learn->imblearn==0.0) (1.0.2)\n",
      "Requirement already satisfied: numpy>=1.13.3 in /usr/local/lib/python3.7/dist-packages (from imbalanced-learn->imblearn==0.0) (1.19.5)\n",
      "Requirement already satisfied: joblib>=0.11 in /usr/local/lib/python3.7/dist-packages (from imbalanced-learn->imblearn==0.0) (1.0.1)\n",
      "Requirement already satisfied: threadpoolctl>=2.0.0 in /usr/local/lib/python3.7/dist-packages (from scikit-learn>=0.24->imbalanced-learn->imblearn==0.0) (3.1.0)\n",
      "Requirement already satisfied: joblib==1.0.1 in /usr/local/lib/python3.7/dist-packages (1.0.1)\n",
      "Requirement already satisfied: matplotlib==3.3.4 in /usr/local/lib/python3.7/dist-packages (3.3.4)\n",
      "Requirement already satisfied: kiwisolver>=1.0.1 in /usr/local/lib/python3.7/dist-packages (from matplotlib==3.3.4) (1.3.2)\n",
      "Requirement already satisfied: cycler>=0.10 in /usr/local/lib/python3.7/dist-packages (from matplotlib==3.3.4) (0.11.0)\n",
      "Requirement already satisfied: pillow>=6.2.0 in /usr/local/lib/python3.7/dist-packages (from matplotlib==3.3.4) (7.1.2)\n",
      "Requirement already satisfied: python-dateutil>=2.1 in /usr/local/lib/python3.7/dist-packages (from matplotlib==3.3.4) (2.8.2)\n",
      "Requirement already satisfied: pyparsing!=2.0.4,!=2.1.2,!=2.1.6,>=2.0.3 in /usr/local/lib/python3.7/dist-packages (from matplotlib==3.3.4) (3.0.7)\n",
      "Requirement already satisfied: numpy>=1.15 in /usr/local/lib/python3.7/dist-packages (from matplotlib==3.3.4) (1.19.5)\n",
      "Requirement already satisfied: six>=1.5 in /usr/local/lib/python3.7/dist-packages (from python-dateutil>=2.1->matplotlib==3.3.4) (1.15.0)\n",
      "Requirement already satisfied: numpy==1.19.5 in /usr/local/lib/python3.7/dist-packages (1.19.5)\n",
      "Requirement already satisfied: pandas==1.3.5 in /usr/local/lib/python3.7/dist-packages (1.3.5)\n",
      "Requirement already satisfied: numpy>=1.17.3 in /usr/local/lib/python3.7/dist-packages (from pandas==1.3.5) (1.19.5)\n",
      "Requirement already satisfied: pytz>=2017.3 in /usr/local/lib/python3.7/dist-packages (from pandas==1.3.5) (2018.9)\n",
      "Requirement already satisfied: python-dateutil>=2.7.3 in /usr/local/lib/python3.7/dist-packages (from pandas==1.3.5) (2.8.2)\n",
      "Requirement already satisfied: six>=1.5 in /usr/local/lib/python3.7/dist-packages (from python-dateutil>=2.7.3->pandas==1.3.5) (1.15.0)\n",
      "Collecting scikit_learn==0.24.2\n",
      "  Using cached scikit_learn-0.24.2-cp37-cp37m-manylinux2010_x86_64.whl (22.3 MB)\n",
      "Requirement already satisfied: numpy>=1.13.3 in /usr/local/lib/python3.7/dist-packages (from scikit_learn==0.24.2) (1.19.5)\n",
      "Requirement already satisfied: threadpoolctl>=2.0.0 in /usr/local/lib/python3.7/dist-packages (from scikit_learn==0.24.2) (3.1.0)\n",
      "Requirement already satisfied: scipy>=0.19.1 in /usr/local/lib/python3.7/dist-packages (from scikit_learn==0.24.2) (1.6.2)\n",
      "Requirement already satisfied: joblib>=0.11 in /usr/local/lib/python3.7/dist-packages (from scikit_learn==0.24.2) (1.0.1)\n",
      "Installing collected packages: scikit-learn\n",
      "  Attempting uninstall: scikit-learn\n",
      "    Found existing installation: scikit-learn 1.0.2\n",
      "    Uninstalling scikit-learn-1.0.2:\n",
      "      Successfully uninstalled scikit-learn-1.0.2\n",
      "Successfully installed scikit-learn-0.24.2\n",
      "Requirement already satisfied: scipy==1.6.2 in /usr/local/lib/python3.7/dist-packages (1.6.2)\n",
      "Requirement already satisfied: numpy<1.23.0,>=1.16.5 in /usr/local/lib/python3.7/dist-packages (from scipy==1.6.2) (1.19.5)\n",
      "Requirement already satisfied: seaborn==0.11.1 in /usr/local/lib/python3.7/dist-packages (0.11.1)\n",
      "Requirement already satisfied: matplotlib>=2.2 in /usr/local/lib/python3.7/dist-packages (from seaborn==0.11.1) (3.3.4)\n",
      "Requirement already satisfied: scipy>=1.0 in /usr/local/lib/python3.7/dist-packages (from seaborn==0.11.1) (1.6.2)\n",
      "Requirement already satisfied: pandas>=0.23 in /usr/local/lib/python3.7/dist-packages (from seaborn==0.11.1) (1.3.5)\n",
      "Requirement already satisfied: numpy>=1.15 in /usr/local/lib/python3.7/dist-packages (from seaborn==0.11.1) (1.19.5)\n",
      "Requirement already satisfied: kiwisolver>=1.0.1 in /usr/local/lib/python3.7/dist-packages (from matplotlib>=2.2->seaborn==0.11.1) (1.3.2)\n",
      "Requirement already satisfied: cycler>=0.10 in /usr/local/lib/python3.7/dist-packages (from matplotlib>=2.2->seaborn==0.11.1) (0.11.0)\n",
      "Requirement already satisfied: pyparsing!=2.0.4,!=2.1.2,!=2.1.6,>=2.0.3 in /usr/local/lib/python3.7/dist-packages (from matplotlib>=2.2->seaborn==0.11.1) (3.0.7)\n",
      "Requirement already satisfied: pillow>=6.2.0 in /usr/local/lib/python3.7/dist-packages (from matplotlib>=2.2->seaborn==0.11.1) (7.1.2)\n",
      "Requirement already satisfied: python-dateutil>=2.1 in /usr/local/lib/python3.7/dist-packages (from matplotlib>=2.2->seaborn==0.11.1) (2.8.2)\n",
      "Requirement already satisfied: pytz>=2017.3 in /usr/local/lib/python3.7/dist-packages (from pandas>=0.23->seaborn==0.11.1) (2018.9)\n",
      "Requirement already satisfied: six>=1.5 in /usr/local/lib/python3.7/dist-packages (from python-dateutil>=2.1->matplotlib>=2.2->seaborn==0.11.1) (1.15.0)\n",
      "Requirement already satisfied: six==1.15.0 in /usr/local/lib/python3.7/dist-packages (1.15.0)\n",
      "Requirement already satisfied: xgboost==1.5.1 in /usr/local/lib/python3.7/dist-packages (1.5.1)\n",
      "Requirement already satisfied: numpy in /usr/local/lib/python3.7/dist-packages (from xgboost==1.5.1) (1.19.5)\n",
      "Requirement already satisfied: scipy in /usr/local/lib/python3.7/dist-packages (from xgboost==1.5.1) (1.6.2)\n"
     ]
    }
   ],
   "source": [
    "\"\"\"!pip install fancyimpute==0.7.0\n",
    "!pip install imblearn==0.0\n",
    "!pip install joblib==1.0.1\n",
    "!pip install matplotlib==3.3.4\n",
    "!pip install numpy==1.19.5\n",
    "!pip install pandas==1.3.5\n",
    "!pip install scikit_learn==0.24.2\n",
    "!pip install scipy==1.6.2\n",
    "!pip install seaborn==0.11.1\n",
    "!pip install six==1.15.0\n",
    "!pip install xgboost==1.5.1\"\"\""
   ]
  },
  {
   "cell_type": "code",
   "execution_count": null,
   "metadata": {
    "id": "lEhGJmvummkV"
   },
   "outputs": [],
   "source": [
    "from fancyimpute import KNN, SoftImpute"
   ]
  },
  {
   "cell_type": "code",
   "execution_count": null,
   "metadata": {
    "id": "ScNfUPv2nB6-"
   },
   "outputs": [],
   "source": [
    "import pandas as pd\n",
    "import numpy as np\n",
    "import os\n",
    "import matplotlib.pyplot as plt\n",
    "import seaborn as sns\n",
    "import statistics\n",
    "from sklearn.model_selection import train_test_split,GridSearchCV,cross_val_score\n",
    "from sklearn.preprocessing import LabelBinarizer,StandardScaler,OrdinalEncoder\n",
    "from sklearn.metrics import confusion_matrix\n",
    "from sklearn.metrics import roc_auc_score\n",
    "from sklearn.metrics import roc_curve\n",
    "from scipy.stats import boxcox\n",
    "from sklearn.linear_model import LogisticRegression,RidgeClassifier, PassiveAggressiveClassifier\n",
    "from sklearn import metrics\n",
    "from sklearn import preprocessing\n",
    "from sklearn.ensemble import RandomForestClassifier, GradientBoostingClassifier\n",
    "from xgboost import plot_importance\n",
    "from matplotlib import pyplot\n",
    "from sklearn.naive_bayes import BernoulliNB\n",
    "from sklearn.neighbors import KNeighborsClassifier\n",
    "from sklearn.svm import LinearSVC\n",
    "from sklearn.tree import DecisionTreeClassifier\n",
    "from xgboost import XGBClassifier\n",
    "import joblib\n",
    "\n",
    "%matplotlib inline\n"
   ]
  },
  {
   "cell_type": "code",
   "execution_count": null,
   "metadata": {
    "id": "pRVfVbQM7uP1"
   },
   "outputs": [],
   "source": [
    "import operator"
   ]
  },
  {
   "cell_type": "code",
   "execution_count": null,
   "metadata": {
    "id": "gxwo4iX1yCQb"
   },
   "outputs": [],
   "source": [
    "import six\n",
    "import sys\n",
    "sys.modules['sklearn.externals.six'] = six"
   ]
  },
  {
   "cell_type": "code",
   "execution_count": null,
   "metadata": {
    "id": "2kVRJCkhyRSp"
   },
   "outputs": [],
   "source": [
    "import sklearn.neighbors._base\n",
    "sys.modules['sklearn.neighbors.base'] = sklearn.neighbors._base"
   ]
  },
  {
   "cell_type": "code",
   "execution_count": null,
   "metadata": {
    "id": "JOONLmg7yuah"
   },
   "outputs": [],
   "source": [
    "from sklearn.utils import _safe_indexing\n",
    "sys.modules['sklearn.utils.safe_indexing'] = sklearn.utils._safe_indexing"
   ]
  },
  {
   "cell_type": "code",
   "execution_count": null,
   "metadata": {
    "id": "Ol8_KYaHxyQ1"
   },
   "outputs": [],
   "source": [
    "from imblearn.over_sampling import SMOTE"
   ]
  },
  {
   "cell_type": "code",
   "execution_count": null,
   "metadata": {
    "id": "vSgZnQsTx7F5"
   },
   "outputs": [],
   "source": [
    "\n",
    "def classify(est, x, y,X_test,y_test):\n",
    "    #Passing the model and train test dataset to fit the model\n",
    "    est.fit(x, y)\n",
    "    #Predicting the probabilities of the Tet data\n",
    "    y2 = est.predict_proba(X_test)\n",
    "    y1 = est.predict(X_test)\n",
    "\n",
    "    print(\"Accuracy: \", metrics.accuracy_score(y_test, y1))\n",
    "    print(\"Area under the ROC curve: \", metrics.roc_auc_score(y_test, y2[:, 1]))\n",
    "    #Calculate different metrics\n",
    "    print(\"F-metric: \", metrics.f1_score(y_test, y1))\n",
    "    print(\" \")\n",
    "    print(\"Classification report:\")\n",
    "    print(metrics.classification_report(y_test, y1))\n",
    "    print(\" \")\n",
    "    print(\"Evaluation by cross-validation:\")\n",
    "    print(cross_val_score(est, x, y))\n",
    "    \n",
    "    return est, y1, y2[:, 1]\n",
    "\n",
    "\n",
    "#Function to find which features are more important than others through model\n",
    "def feat_importance(estimator):\n",
    "    feature_importance = {}\n",
    "    for index, name in enumerate(df_LC.columns):\n",
    "        feature_importance[name] = estimator.feature_importances_[index]\n",
    "\n",
    "    feature_importance = {k: v for k, v in feature_importance.items()}\n",
    "    sorted_x = sorted(feature_importance.items(), key=operator.itemgetter(1), reverse = True)\n",
    "    \n",
    "    return sorted_x\n",
    "\n",
    "#Model to  predict the ROC curve for various models and finding the best one\n",
    "def run_models(X_train, y_train, X_test, y_test, model_type = 'Non-balanced'):\n",
    "    \n",
    "    clfs = {'GradientBoosting': GradientBoostingClassifier(max_depth= 6, n_estimators=100, max_features = 0.3),\n",
    "            'LogisticRegression' : LogisticRegression(),\n",
    "            #'GaussianNB': GaussianNB(),\n",
    "            'RandomForestClassifier': RandomForestClassifier(n_estimators=10),\n",
    "            'XGBClassifier': XGBClassifier()\n",
    "            }\n",
    "    cols = ['model','matthews_corrcoef', 'roc_auc_score', 'precision_score', 'recall_score','f1_score']\n",
    "\n",
    "    models_report = pd.DataFrame(columns = cols)\n",
    "    conf_matrix = dict()\n",
    "\n",
    "    for clf, clf_name in zip(clfs.values(), clfs.keys()):\n",
    "\n",
    "        clf.fit(X_train, y_train)\n",
    "\n",
    "        y_pred = clf.predict(X_test)\n",
    "        y_score = clf.predict_proba(X_test)[:,1]\n",
    "\n",
    "        print('computing {} - {} '.format(clf_name, model_type))\n",
    "\n",
    "        tmp = pd.Series({'model_type': model_type,\n",
    "                         'model': clf_name,\n",
    "                         'roc_auc_score' : metrics.roc_auc_score(y_test, y_score),\n",
    "                         'matthews_corrcoef': metrics.matthews_corrcoef(y_test, y_pred),\n",
    "                         'precision_score': metrics.precision_score(y_test, y_pred),\n",
    "                         'recall_score': metrics.recall_score(y_test, y_pred),\n",
    "                         'f1_score': metrics.f1_score(y_test, y_pred)})\n",
    "\n",
    "        models_report = models_report.append(tmp, ignore_index = True)\n",
    "        conf_matrix[clf_name] = pd.crosstab(y_test, y_pred, rownames=['True'], colnames= ['Predicted'], margins=False)\n",
    "        fpr, tpr, thresholds = metrics.roc_curve(y_test, y_score, drop_intermediate = False, pos_label = 1)\n",
    "\n",
    "        plt.figure(1, figsize=(6,6))\n",
    "        plt.xlabel('false positive rate')\n",
    "        plt.ylabel('true positive rate')\n",
    "        plt.title('ROC curve - {}'.format(model_type))\n",
    "        plt.plot(fpr, tpr, label = clf_name )\n",
    "        plt.legend(loc=2, prop={'size':11})\n",
    "    plt.plot([0,1],[0,1], color = 'black')\n",
    "    \n",
    "    return models_report, conf_matrix"
   ]
  },
  {
   "cell_type": "code",
   "execution_count": null,
   "metadata": {
    "colab": {
     "base_uri": "https://localhost:8080/"
    },
    "executionInfo": {
     "elapsed": 1921,
     "status": "ok",
     "timestamp": 1644400699969,
     "user": {
      "displayName": "Siddhi Jadhav",
      "photoUrl": "https://lh3.googleusercontent.com/a/default-user=s64",
      "userId": "08402691859170607175"
     },
     "user_tz": -330
    },
    "id": "-7XIVyoSemPa",
    "outputId": "d2ace87e-cf46-4df8-8651-3329d840755a"
   },
   "outputs": [
    {
     "name": "stderr",
     "output_type": "stream",
     "text": [
      "/usr/local/lib/python3.7/dist-packages/IPython/core/interactiveshell.py:2882: DtypeWarning: Columns (10,16) have mixed types.Specify dtype option on import or set low_memory=False.\n",
      "  exec(code_obj, self.user_global_ns, self.user_ns)\n"
     ]
    }
   ],
   "source": [
    "#Importing the datasets\n",
    "data =pd.read_csv(\"https://s3.amazonaws.com/hackerday.datascience/358/LoansTrainingSetV2.csv\")"
   ]
  },
  {
   "cell_type": "code",
   "execution_count": null,
   "metadata": {
    "colab": {
     "base_uri": "https://localhost:8080/"
    },
    "executionInfo": {
     "elapsed": 6,
     "status": "ok",
     "timestamp": 1644400699969,
     "user": {
      "displayName": "Siddhi Jadhav",
      "photoUrl": "https://lh3.googleusercontent.com/a/default-user=s64",
      "userId": "08402691859170607175"
     },
     "user_tz": -330
    },
    "id": "ADRvAC6H3A07",
    "outputId": "233e402e-1931-43f8-997f-9745d63c7376"
   },
   "outputs": [
    {
     "data": {
      "text/plain": [
       "111107"
      ]
     },
     "execution_count": 15,
     "metadata": {},
     "output_type": "execute_result"
    }
   ],
   "source": [
    "data.head()\n",
    "len(data)"
   ]
  },
  {
   "cell_type": "code",
   "execution_count": null,
   "metadata": {
    "id": "V8UUzb1y3FnV"
   },
   "outputs": [],
   "source": [
    "##Drop the duplicates with respect to LOAN ID\n",
    "data.drop_duplicates(subset=\"Loan ID\",keep='first',inplace=True)"
   ]
  },
  {
   "cell_type": "code",
   "execution_count": null,
   "metadata": {
    "colab": {
     "base_uri": "https://localhost:8080/",
     "height": 410
    },
    "executionInfo": {
     "elapsed": 869,
     "status": "ok",
     "timestamp": 1644400700836,
     "user": {
      "displayName": "Siddhi Jadhav",
      "photoUrl": "https://lh3.googleusercontent.com/a/default-user=s64",
      "userId": "08402691859170607175"
     },
     "user_tz": -330
    },
    "id": "ISxmQNST3JHs",
    "outputId": "306e13bf-f9f7-47b1-ab89-d13da37f028c"
   },
   "outputs": [
    {
     "name": "stderr",
     "output_type": "stream",
     "text": [
      "/usr/local/lib/python3.7/dist-packages/seaborn/_decorators.py:43: FutureWarning: Pass the following variables as keyword args: x, y. From version 0.12, the only valid positional argument will be `data`, and passing other arguments without an explicit keyword will result in an error or misinterpretation.\n",
      "  FutureWarning\n"
     ]
    },
    {
     "data": {
      "image/png": "[encoded data removed]",
      "text/plain": [
       "<Figure size 720x360 with 1 Axes>"
      ]
     },
     "metadata": {
      "needs_background": "light"
     },
     "output_type": "display_data"
    }
   ],
   "source": [
    "##########PLotting the loan status \n",
    "status=data[\"Loan Status\"].value_counts() \n",
    "\n",
    "plt.figure(figsize=(10,5))\n",
    "sns.barplot(status.index, status.values, alpha=0.8)\n",
    "plt.title('Loan Status distribution')\n",
    "plt.ylabel('Number of Occurrences', fontsize=12)\n",
    "plt.xlabel('Loan Status', fontsize=12)\n",
    "plt.show()"
   ]
  },
  {
   "cell_type": "code",
   "execution_count": null,
   "metadata": {
    "colab": {
     "base_uri": "https://localhost:8080/",
     "height": 294
    },
    "executionInfo": {
     "elapsed": 596,
     "status": "ok",
     "timestamp": 1644400701430,
     "user": {
      "displayName": "Siddhi Jadhav",
      "photoUrl": "https://lh3.googleusercontent.com/a/default-user=s64",
      "userId": "08402691859170607175"
     },
     "user_tz": -330
    },
    "id": "eZjs1pbe3QK9",
    "outputId": "f8f71b83-2ab7-4de7-dca5-90133556aef9"
   },
   "outputs": [
    {
     "data": {
      "image/png": "[encoded data removed]",
      "text/plain": [
       "<Figure size 432x288 with 1 Axes>"
      ]
     },
     "metadata": {
      "needs_background": "light"
     },
     "output_type": "display_data"
    }
   ],
   "source": [
    "###Current Loan Amount ############\n",
    "data[\"Current Loan Amount\"].describe()\n",
    "\n",
    "\n",
    "data[\"Current Loan Amount\"].plot.hist(grid=True, bins=20, rwidth=0.9,\n",
    "                   color='#607c8e')\n",
    "plt.title('Commute Times for 1,000 Commuters')\n",
    "plt.xlabel('Counts')\n",
    "plt.ylabel('Commute Time')\n",
    "plt.grid(axis='y', alpha=0.75)\n"
   ]
  },
  {
   "cell_type": "code",
   "execution_count": null,
   "metadata": {
    "colab": {
     "base_uri": "https://localhost:8080/"
    },
    "executionInfo": {
     "elapsed": 8,
     "status": "ok",
     "timestamp": 1644400701432,
     "user": {
      "displayName": "Siddhi Jadhav",
      "photoUrl": "https://lh3.googleusercontent.com/a/default-user=s64",
      "userId": "08402691859170607175"
     },
     "user_tz": -330
    },
    "id": "DgOWaS9A3SHA",
    "outputId": "31c20469-dfa2-4611-f48b-c98caf3f7048"
   },
   "outputs": [
    {
     "name": "stdout",
     "output_type": "stream",
     "text": [
      "16202.0\n"
     ]
    }
   ],
   "source": [
    "#Finding IQR's for outlier removal\n",
    "\n",
    "Q1 = data[\"Current Loan Amount\"].quantile(0.25)\n",
    "Q3 = data[\"Current Loan Amount\"].quantile(0.75)\n",
    "IQR = Q3 - Q1\n",
    "print(IQR)"
   ]
  },
  {
   "cell_type": "code",
   "execution_count": null,
   "metadata": {
    "colab": {
     "base_uri": "https://localhost:8080/"
    },
    "executionInfo": {
     "elapsed": 6,
     "status": "ok",
     "timestamp": 1644400701432,
     "user": {
      "displayName": "Siddhi Jadhav",
      "photoUrl": "https://lh3.googleusercontent.com/a/default-user=s64",
      "userId": "08402691859170607175"
     },
     "user_tz": -330
    },
    "id": "EUkGOb9T3Ur7",
    "outputId": "7f7ebf1d-dfb9-430f-deff-5a49aaa57158"
   },
   "outputs": [
    {
     "data": {
      "text/plain": [
       "5044     99999999\n",
       "5045     99999999\n",
       "5046     99999999\n",
       "5047     99999999\n",
       "5048     99999999\n",
       "           ...   \n",
       "17777    99999999\n",
       "17778    99999999\n",
       "17779    99999999\n",
       "17780    99999999\n",
       "17781    99999999\n",
       "Name: Current Loan Amount, Length: 12738, dtype: int64"
      ]
     },
     "execution_count": 20,
     "metadata": {},
     "output_type": "execute_result"
    }
   ],
   "source": [
    "data[\"Current Loan Amount\"][((data[\"Current Loan Amount\"] < (Q1 - 1.5 * IQR)) |(data[\"Current Loan Amount\"] > (Q3 + 1.5 * IQR)))]\n"
   ]
  },
  {
   "cell_type": "code",
   "execution_count": null,
   "metadata": {
    "id": "cGCHNHUt3axb"
   },
   "outputs": [],
   "source": [
    "temp=np.array(data[\"Current Loan Amount\"].values.tolist())\n",
    "data[\"Current Loan Amount_temp\"] = np.where(temp > 9999998, 'NaN', temp).tolist()\n"
   ]
  },
  {
   "cell_type": "code",
   "execution_count": null,
   "metadata": {
    "colab": {
     "base_uri": "https://localhost:8080/",
     "height": 431
    },
    "executionInfo": {
     "elapsed": 1043,
     "status": "ok",
     "timestamp": 1644400702471,
     "user": {
      "displayName": "Siddhi Jadhav",
      "photoUrl": "https://lh3.googleusercontent.com/a/default-user=s64",
      "userId": "08402691859170607175"
     },
     "user_tz": -330
    },
    "id": "yn6qEcfL3dPY",
    "outputId": "81a578f3-9df1-4524-e265-1aafd6846501"
   },
   "outputs": [
    {
     "data": {
      "text/plain": [
       "count    76172.000000\n",
       "mean     13933.915756\n",
       "std       8235.921922\n",
       "min        491.000000\n",
       "25%       7810.000000\n",
       "50%      12038.000000\n",
       "75%      19351.000000\n",
       "max      35875.000000\n",
       "Name: Current Loan Amount_temp, dtype: float64"
      ]
     },
     "execution_count": 22,
     "metadata": {},
     "output_type": "execute_result"
    },
    {
     "data": {
      "image/png": "[encoded data removed]",
      "text/plain": [
       "<Figure size 432x288 with 1 Axes>"
      ]
     },
     "metadata": {
      "needs_background": "light"
     },
     "output_type": "display_data"
    }
   ],
   "source": [
    "temp=data[\"Current Loan Amount_temp\"][data[\"Current Loan Amount_temp\"]!='NaN'].astype(str).astype(int)\n",
    "temp.plot.hist(grid=True, bins=20, rwidth=0.9,\n",
    "                   color='#607c8e')\n",
    "                   \n",
    "temp.describe()\n"
   ]
  },
  {
   "cell_type": "code",
   "execution_count": null,
   "metadata": {
    "id": "KTgdmyYf3h-P"
   },
   "outputs": [],
   "source": [
    "#Replacing the data with 50% percentile or mean\n",
    "temp=np.array(data[\"Current Loan Amount\"].values.tolist())\n",
    "data[\"Current Loan Amount\"] = np.where(temp > 9999998,12038,temp).tolist()\n",
    "\n",
    "data=data.drop(['Current Loan Amount_temp'],axis=1)"
   ]
  },
  {
   "cell_type": "code",
   "execution_count": null,
   "metadata": {
    "colab": {
     "base_uri": "https://localhost:8080/",
     "height": 410
    },
    "executionInfo": {
     "elapsed": 877,
     "status": "ok",
     "timestamp": 1644400703344,
     "user": {
      "displayName": "Siddhi Jadhav",
      "photoUrl": "https://lh3.googleusercontent.com/a/default-user=s64",
      "userId": "08402691859170607175"
     },
     "user_tz": -330
    },
    "id": "QknzhQ1j3jl5",
    "outputId": "a7fbe35f-cf0b-47cd-b5d0-07987bfdfc5e"
   },
   "outputs": [
    {
     "name": "stderr",
     "output_type": "stream",
     "text": [
      "/usr/local/lib/python3.7/dist-packages/seaborn/_decorators.py:43: FutureWarning: Pass the following variables as keyword args: x, y. From version 0.12, the only valid positional argument will be `data`, and passing other arguments without an explicit keyword will result in an error or misinterpretation.\n",
      "  FutureWarning\n"
     ]
    },
    {
     "data": {
      "image/png": "[encoded data removed]",
      "text/plain": [
       "<Figure size 720x360 with 1 Axes>"
      ]
     },
     "metadata": {
      "needs_background": "light"
     },
     "output_type": "display_data"
    }
   ],
   "source": [
    "\n",
    "############Term ##############\n",
    "\n",
    "status=data[\"Term\"].value_counts() \n",
    "\n",
    "plt.figure(figsize=(10,5))\n",
    "sns.barplot(status.index, status.values, alpha=0.8)\n",
    "plt.title('Loan Term distribution')\n",
    "plt.ylabel('Number of Occurrences', fontsize=12)\n",
    "plt.xlabel('Loan term', fontsize=12)\n",
    "plt.show()\n"
   ]
  },
  {
   "cell_type": "code",
   "execution_count": null,
   "metadata": {
    "colab": {
     "base_uri": "https://localhost:8080/",
     "height": 412
    },
    "executionInfo": {
     "elapsed": 530,
     "status": "ok",
     "timestamp": 1644400703868,
     "user": {
      "displayName": "Siddhi Jadhav",
      "photoUrl": "https://lh3.googleusercontent.com/a/default-user=s64",
      "userId": "08402691859170607175"
     },
     "user_tz": -330
    },
    "id": "bS39361Q3oW9",
    "outputId": "aa00f62e-440a-4739-fb39-0cfe9c8a1a63"
   },
   "outputs": [
    {
     "data": {
      "text/plain": [
       "{'boxes': [<matplotlib.lines.Line2D at 0x7f0dc2dd3690>],\n",
       " 'caps': [<matplotlib.lines.Line2D at 0x7f0dc20eb290>,\n",
       "  <matplotlib.lines.Line2D at 0x7f0dc20eb490>],\n",
       " 'fliers': [<matplotlib.lines.Line2D at 0x7f0dc20ebf10>],\n",
       " 'means': [],\n",
       " 'medians': [<matplotlib.lines.Line2D at 0x7f0dc20eb8d0>],\n",
       " 'whiskers': [<matplotlib.lines.Line2D at 0x7f0dc2dd3c50>,\n",
       "  <matplotlib.lines.Line2D at 0x7f0dc2dd3490>]}"
      ]
     },
     "execution_count": 25,
     "metadata": {},
     "output_type": "execute_result"
    },
    {
     "data": {
      "image/png": "[encoded data removed]",
      "text/plain": [
       "<Figure size 432x288 with 1 Axes>"
      ]
     },
     "metadata": {
      "needs_background": "light"
     },
     "output_type": "display_data"
    }
   ],
   "source": [
    "#####Credit Score#############\n",
    "\n",
    "data[\"Credit Score\"].describe()\n",
    "##Max is 7510. It should be between 0-800\n",
    "plt.boxplot(data[\"Credit Score\"])\n"
   ]
  },
  {
   "cell_type": "code",
   "execution_count": null,
   "metadata": {
    "colab": {
     "base_uri": "https://localhost:8080/"
    },
    "executionInfo": {
     "elapsed": 5,
     "status": "ok",
     "timestamp": 1644400703868,
     "user": {
      "displayName": "Siddhi Jadhav",
      "photoUrl": "https://lh3.googleusercontent.com/a/default-user=s64",
      "userId": "08402691859170607175"
     },
     "user_tz": -330
    },
    "id": "wtRdm_KB3qU4",
    "outputId": "81ba1365-9c9f-46b0-b9cf-6e1e8031838c"
   },
   "outputs": [
    {
     "data": {
      "text/plain": [
       "21338"
      ]
     },
     "execution_count": 26,
     "metadata": {},
     "output_type": "execute_result"
    }
   ],
   "source": [
    "data[\"Credit Score\"].isnull().sum()\n"
   ]
  },
  {
   "cell_type": "code",
   "execution_count": null,
   "metadata": {
    "id": "_GR08d3O3uJa"
   },
   "outputs": [],
   "source": [
    "#Now lets do treatment of the data at hand. Let us firstly divide the values greater than 800 by 10\n",
    "\n",
    "data[\"Credit Score\"]=np.where(data[\"Credit Score\"]>800, data[\"Credit Score\"]/10, data[\"Credit Score\"])\n"
   ]
  },
  {
   "cell_type": "code",
   "execution_count": null,
   "metadata": {
    "colab": {
     "base_uri": "https://localhost:8080/",
     "height": 355
    },
    "executionInfo": {
     "elapsed": 2015,
     "status": "ok",
     "timestamp": 1644400705881,
     "user": {
      "displayName": "Siddhi Jadhav",
      "photoUrl": "https://lh3.googleusercontent.com/a/default-user=s64",
      "userId": "08402691859170607175"
     },
     "user_tz": -330
    },
    "id": "NXGFnB8A31ML",
    "outputId": "dedfeb54-0308-41de-f57a-1ce4f22e250d"
   },
   "outputs": [
    {
     "name": "stderr",
     "output_type": "stream",
     "text": [
      "/usr/local/lib/python3.7/dist-packages/seaborn/distributions.py:2557: FutureWarning: `distplot` is a deprecated function and will be removed in a future version. Please adapt your code to use either `displot` (a figure-level function with similar flexibility) or `histplot` (an axes-level function for histograms).\n",
      "  warnings.warn(msg, FutureWarning)\n"
     ]
    },
    {
     "data": {
      "text/plain": [
       "<AxesSubplot:xlabel='Credit Score_1', ylabel='Density'>"
      ]
     },
     "execution_count": 28,
     "metadata": {},
     "output_type": "execute_result"
    },
    {
     "data": {
      "image/png": "[encoded data removed]",
      "text/plain": [
       "<Figure size 432x288 with 1 Axes>"
      ]
     },
     "metadata": {
      "needs_background": "light"
     },
     "output_type": "display_data"
    }
   ],
   "source": [
    "#Now lets replace the missing values with median \n",
    "median_score=statistics.median(data[\"Credit Score\"])\n",
    "\n",
    "data[\"Credit Score_1\"]=data[\"Credit Score\"]\n",
    "data[\"Credit Score_1\"].fillna(median_score, inplace = True) \n",
    "\n",
    "sns.distplot(data[\"Credit Score_1\"])\n"
   ]
  },
  {
   "cell_type": "code",
   "execution_count": null,
   "metadata": {
    "colab": {
     "base_uri": "https://localhost:8080/",
     "height": 391
    },
    "executionInfo": {
     "elapsed": 3118,
     "status": "ok",
     "timestamp": 1644400708993,
     "user": {
      "displayName": "Siddhi Jadhav",
      "photoUrl": "https://lh3.googleusercontent.com/a/default-user=s64",
      "userId": "08402691859170607175"
     },
     "user_tz": -330
    },
    "id": "zWWkfxDS34kb",
    "outputId": "e56f217e-fb28-48c6-88ad-e78e99c3347b"
   },
   "outputs": [
    {
     "name": "stderr",
     "output_type": "stream",
     "text": [
      "/usr/local/lib/python3.7/dist-packages/seaborn/distributions.py:2557: FutureWarning: `distplot` is a deprecated function and will be removed in a future version. Please adapt your code to use either `displot` (a figure-level function with similar flexibility) or `histplot` (an axes-level function for histograms).\n",
      "  warnings.warn(msg, FutureWarning)\n",
      "/usr/local/lib/python3.7/dist-packages/seaborn/distributions.py:2557: FutureWarning: `distplot` is a deprecated function and will be removed in a future version. Please adapt your code to use either `displot` (a figure-level function with similar flexibility) or `histplot` (an axes-level function for histograms).\n",
      "  warnings.warn(msg, FutureWarning)\n"
     ]
    },
    {
     "data": {
      "text/plain": [
       "<AxesSubplot:xlabel='Credit Score', ylabel='Density'>"
      ]
     },
     "execution_count": 29,
     "metadata": {},
     "output_type": "execute_result"
    },
    {
     "data": {
      "image/png": "[encoded data removed]",
      "text/plain": [
       "<Figure size 432x288 with 1 Axes>"
      ]
     },
     "metadata": {
      "needs_background": "light"
     },
     "output_type": "display_data"
    }
   ],
   "source": [
    "#As we can see this data is skewed so when we replace it with median it is giving us problems. \n",
    "#Replacing with 75th percentile and taking log we get a better distribution\n",
    "\n",
    "\n",
    "data[\"Credit Score\"].fillna(741, inplace = True) \n",
    "\n",
    "sns.distplot(data[\"Credit Score\"])\n",
    "sns.distplot(np.log(data[\"Credit Score\"]))"
   ]
  },
  {
   "cell_type": "code",
   "execution_count": null,
   "metadata": {
    "colab": {
     "base_uri": "https://localhost:8080/"
    },
    "executionInfo": {
     "elapsed": 14,
     "status": "ok",
     "timestamp": 1644400708994,
     "user": {
      "displayName": "Siddhi Jadhav",
      "photoUrl": "https://lh3.googleusercontent.com/a/default-user=s64",
      "userId": "08402691859170607175"
     },
     "user_tz": -330
    },
    "id": "D11ymr5s4A-D",
    "outputId": "cd410bf0-be88-467e-d98d-cf43a93287c2"
   },
   "outputs": [
    {
     "data": {
      "text/plain": [
       "array(['Rent', 'Home Mortgage', 'Own Home', 'HaveMortgage'], dtype=object)"
      ]
     },
     "execution_count": 30,
     "metadata": {},
     "output_type": "execute_result"
    }
   ],
   "source": [
    "data['Home Ownership'].unique()\n",
    "#As we can see it has Home Mortgage and haveMortgage as 2 different classes. Lets fix that\n"
   ]
  },
  {
   "cell_type": "code",
   "execution_count": null,
   "metadata": {
    "colab": {
     "base_uri": "https://localhost:8080/"
    },
    "executionInfo": {
     "elapsed": 12,
     "status": "ok",
     "timestamp": 1644400708995,
     "user": {
      "displayName": "Siddhi Jadhav",
      "photoUrl": "https://lh3.googleusercontent.com/a/default-user=s64",
      "userId": "08402691859170607175"
     },
     "user_tz": -330
    },
    "id": "e8YuSicr4CtN",
    "outputId": "e805e5e8-7693-4bc3-bf88-ccac0be261b1"
   },
   "outputs": [
    {
     "data": {
      "text/plain": [
       "array(['Rent', 'Home Mortgage', 'Own Home'], dtype=object)"
      ]
     },
     "execution_count": 31,
     "metadata": {},
     "output_type": "execute_result"
    }
   ],
   "source": [
    "data['Home Ownership']=data['Home Ownership'].str.replace('HaveMortgage', 'Home Mortgage', regex=True)\n",
    "\n",
    "data['Home Ownership'].unique()\n"
   ]
  },
  {
   "cell_type": "code",
   "execution_count": null,
   "metadata": {
    "colab": {
     "base_uri": "https://localhost:8080/"
    },
    "executionInfo": {
     "elapsed": 8,
     "status": "ok",
     "timestamp": 1644400708995,
     "user": {
      "displayName": "Siddhi Jadhav",
      "photoUrl": "https://lh3.googleusercontent.com/a/default-user=s64",
      "userId": "08402691859170607175"
     },
     "user_tz": -330
    },
    "id": "7G_DhsWC4ICh",
    "outputId": "e4a4be96-fc9d-4f3c-a504-752848306fae"
   },
   "outputs": [
    {
     "data": {
      "text/plain": [
       "count    6.757200e+04\n",
       "mean     7.234575e+04\n",
       "std      5.836101e+04\n",
       "min      4.033000e+03\n",
       "25%      4.458600e+04\n",
       "50%      6.149400e+04\n",
       "75%      8.675025e+04\n",
       "max      8.713547e+06\n",
       "Name: Annual Income, dtype: float64"
      ]
     },
     "execution_count": 32,
     "metadata": {},
     "output_type": "execute_result"
    }
   ],
   "source": [
    "##################Annual Income######################\n",
    "data['Annual Income'].describe()\n"
   ]
  },
  {
   "cell_type": "code",
   "execution_count": null,
   "metadata": {
    "colab": {
     "base_uri": "https://localhost:8080/"
    },
    "executionInfo": {
     "elapsed": 857,
     "status": "ok",
     "timestamp": 1644400709846,
     "user": {
      "displayName": "Siddhi Jadhav",
      "photoUrl": "https://lh3.googleusercontent.com/a/default-user=s64",
      "userId": "08402691859170607175"
     },
     "user_tz": -330
    },
    "id": "0GnaT47z4J7w",
    "outputId": "b1cfd252-feed-4984-900b-857710d92f0e"
   },
   "outputs": [
    {
     "data": {
      "text/plain": [
       "0.200     40764.00\n",
       "0.750     86750.25\n",
       "0.900    119916.00\n",
       "0.950    147645.00\n",
       "0.990    239286.96\n",
       "0.999    491575.77\n",
       "Name: Annual Income, dtype: float64"
      ]
     },
     "execution_count": 33,
     "metadata": {},
     "output_type": "execute_result"
    }
   ],
   "source": [
    "##Lets look at the quantiles of this columns\n",
    "\n",
    "data['Annual Income'].quantile([.2,0.75,0.90,.95,0.99,.999])\n"
   ]
  },
  {
   "cell_type": "code",
   "execution_count": null,
   "metadata": {
    "colab": {
     "base_uri": "https://localhost:8080/"
    },
    "executionInfo": {
     "elapsed": 15,
     "status": "ok",
     "timestamp": 1644400709846,
     "user": {
      "displayName": "Siddhi Jadhav",
      "photoUrl": "https://lh3.googleusercontent.com/a/default-user=s64",
      "userId": "08402691859170607175"
     },
     "user_tz": -330
    },
    "id": "OeXP1lAj4Ngp",
    "outputId": "7699c3dd-e5ae-4485-fb0b-0de4a92929e1"
   },
   "outputs": [
    {
     "data": {
      "text/plain": [
       "21338"
      ]
     },
     "execution_count": 34,
     "metadata": {},
     "output_type": "execute_result"
    }
   ],
   "source": [
    "#As we can see they lie in the 99th percentile of the data.Lets replace them\n",
    "# Capping any values greater than 99% to 99th value\n",
    "data.loc[data['Annual Income'] > 239287, 'Annual Income'] = 239287\n",
    "\n",
    "\n",
    "data['Annual Income'].isna().sum()\n",
    "#So we have about 21000 null values \n",
    "\n",
    "##We will impute the mising data with other columns towards the end\n"
   ]
  },
  {
   "cell_type": "code",
   "execution_count": null,
   "metadata": {
    "colab": {
     "base_uri": "https://localhost:8080/"
    },
    "executionInfo": {
     "elapsed": 13,
     "status": "ok",
     "timestamp": 1644400709846,
     "user": {
      "displayName": "Siddhi Jadhav",
      "photoUrl": "https://lh3.googleusercontent.com/a/default-user=s64",
      "userId": "08402691859170607175"
     },
     "user_tz": -330
    },
    "id": "KmJY2oBj4Y84",
    "outputId": "86915f96-1b96-4328-8e55-639dd81d3b63"
   },
   "outputs": [
    {
     "data": {
      "text/plain": [
       "Debt Consolidation      70447\n",
       "Home Improvements        5206\n",
       "other                    4917\n",
       "Other                    2850\n",
       "Business Loan            1328\n",
       "Buy a Car                1196\n",
       "Medical Bills             955\n",
       "Buy House                 559\n",
       "Take a Trip               454\n",
       "major_purchase            344\n",
       "small_business            248\n",
       "moving                    124\n",
       "wedding                    99\n",
       "Educational Expenses       92\n",
       "vacation                   82\n",
       "renewable_energy            9\n",
       "Name: Purpose, dtype: int64"
      ]
     },
     "execution_count": 35,
     "metadata": {},
     "output_type": "execute_result"
    }
   ],
   "source": [
    "\n",
    "\n",
    "###############Loan Purpose ###############\n",
    "\n",
    "data['Purpose'].value_counts()\n",
    "#So other and Other mean the same thing. Lets make it the same\n"
   ]
  },
  {
   "cell_type": "code",
   "execution_count": null,
   "metadata": {
    "id": "cJbaQeO14aUH"
   },
   "outputs": [],
   "source": [
    "data['Purpose']=data['Purpose'].str.replace('Other', 'other', regex=True)"
   ]
  },
  {
   "cell_type": "code",
   "execution_count": null,
   "metadata": {
    "colab": {
     "base_uri": "https://localhost:8080/"
    },
    "executionInfo": {
     "elapsed": 11,
     "status": "ok",
     "timestamp": 1644400709846,
     "user": {
      "displayName": "Siddhi Jadhav",
      "photoUrl": "https://lh3.googleusercontent.com/a/default-user=s64",
      "userId": "08402691859170607175"
     },
     "user_tz": -330
    },
    "id": "w212J-Vs4eQ_",
    "outputId": "d20cc0a4-cf61-4688-8444-bd1c5640beb5"
   },
   "outputs": [
    {
     "data": {
      "text/plain": [
       "count     88910\n",
       "unique    76609\n",
       "top           0\n",
       "freq         55\n",
       "Name: Monthly Debt, dtype: object"
      ]
     },
     "execution_count": 37,
     "metadata": {},
     "output_type": "execute_result"
    }
   ],
   "source": [
    "#######Monthly debt ###############\n",
    "\n",
    "\n",
    "data['Monthly Debt'].describe()\n",
    "##So this is not numeric column. Lets explore\n"
   ]
  },
  {
   "cell_type": "code",
   "execution_count": null,
   "metadata": {
    "colab": {
     "base_uri": "https://localhost:8080/"
    },
    "executionInfo": {
     "elapsed": 9,
     "status": "ok",
     "timestamp": 1644400709847,
     "user": {
      "displayName": "Siddhi Jadhav",
      "photoUrl": "https://lh3.googleusercontent.com/a/default-user=s64",
      "userId": "08402691859170607175"
     },
     "user_tz": -330
    },
    "id": "4Vbj663K4ix1",
    "outputId": "a5fa586a-1bff-4edc-844c-06eebac3eda6"
   },
   "outputs": [
    {
     "data": {
      "text/plain": [
       "0         777.39\n",
       "1         892.09\n",
       "2        1244.02\n",
       "3         990.94\n",
       "4         503.71\n",
       "          ...   \n",
       "88905     567.62\n",
       "88906    2508.63\n",
       "88907      818.2\n",
       "88908     360.17\n",
       "88909     749.13\n",
       "Name: Monthly Debt, Length: 88910, dtype: object"
      ]
     },
     "execution_count": 38,
     "metadata": {},
     "output_type": "execute_result"
    }
   ],
   "source": [
    "data['Monthly Debt'] \n",
    "# But this should be a numeric column. So lets convert it to float\n"
   ]
  },
  {
   "cell_type": "code",
   "execution_count": null,
   "metadata": {
    "id": "QJE01p0H4kvL"
   },
   "outputs": [],
   "source": [
    "#pd.to_numeric(data['Monthly Debt'] )\n",
    "#As we can see there is a $ symbol present. Lets replace it \n"
   ]
  },
  {
   "cell_type": "code",
   "execution_count": null,
   "metadata": {
    "colab": {
     "base_uri": "https://localhost:8080/",
     "height": 354
    },
    "executionInfo": {
     "elapsed": 574,
     "status": "ok",
     "timestamp": 1644400710414,
     "user": {
      "displayName": "Siddhi Jadhav",
      "photoUrl": "https://lh3.googleusercontent.com/a/default-user=s64",
      "userId": "08402691859170607175"
     },
     "user_tz": -330
    },
    "id": "eKoFCjtr4sEC",
    "outputId": "a38f2f71-9b93-48b6-92fa-0d35b687f580"
   },
   "outputs": [
    {
     "name": "stderr",
     "output_type": "stream",
     "text": [
      "/usr/local/lib/python3.7/dist-packages/seaborn/distributions.py:2557: FutureWarning: `distplot` is a deprecated function and will be removed in a future version. Please adapt your code to use either `displot` (a figure-level function with similar flexibility) or `histplot` (an axes-level function for histograms).\n",
      "  warnings.warn(msg, FutureWarning)\n"
     ]
    },
    {
     "data": {
      "text/plain": [
       "<AxesSubplot:xlabel='Monthly Debt', ylabel='Density'>"
      ]
     },
     "execution_count": 40,
     "metadata": {},
     "output_type": "execute_result"
    },
    {
     "data": {
      "image/png": "[encoded data removed]",
      "text/plain": [
       "<Figure size 432x288 with 1 Axes>"
      ]
     },
     "metadata": {
      "needs_background": "light"
     },
     "output_type": "display_data"
    }
   ],
   "source": [
    "data['Monthly Debt']=data['Monthly Debt'].str.replace('$', '', regex=True)\n",
    "\n",
    "data['Monthly Debt']=pd.to_numeric(data['Monthly Debt'] )\n",
    "\n",
    "sns.distplot(data[\"Monthly Debt\"])\n"
   ]
  },
  {
   "cell_type": "code",
   "execution_count": null,
   "metadata": {
    "colab": {
     "base_uri": "https://localhost:8080/"
    },
    "executionInfo": {
     "elapsed": 39,
     "status": "ok",
     "timestamp": 1644400710415,
     "user": {
      "displayName": "Siddhi Jadhav",
      "photoUrl": "https://lh3.googleusercontent.com/a/default-user=s64",
      "userId": "08402691859170607175"
     },
     "user_tz": -330
    },
    "id": "cMxKo5zX5Mnr",
    "outputId": "042d156d-f0ee-42b7-cd7e-692f1c7198d3"
   },
   "outputs": [
    {
     "data": {
      "text/plain": [
       "count    65536.000000\n",
       "mean       962.406632\n",
       "std        632.799593\n",
       "min          0.000000\n",
       "25%        532.250000\n",
       "50%        843.770000\n",
       "75%       1251.342500\n",
       "max      12055.680000\n",
       "Name: Monthly Debt, dtype: float64"
      ]
     },
     "execution_count": 41,
     "metadata": {},
     "output_type": "execute_result"
    }
   ],
   "source": [
    "#We can see that there are outliers in this data because of the plot\n",
    "#Lets explore\n",
    "\n",
    "data['Monthly Debt'].describe()\n",
    "#The max value is too high here\n"
   ]
  },
  {
   "cell_type": "code",
   "execution_count": null,
   "metadata": {
    "colab": {
     "base_uri": "https://localhost:8080/"
    },
    "executionInfo": {
     "elapsed": 33,
     "status": "ok",
     "timestamp": 1644400710417,
     "user": {
      "displayName": "Siddhi Jadhav",
      "photoUrl": "https://lh3.googleusercontent.com/a/default-user=s64",
      "userId": "08402691859170607175"
     },
     "user_tz": -330
    },
    "id": "H2o1-coN5QAM",
    "outputId": "b035ef23-fa04-460b-8ba0-88588d14da5e"
   },
   "outputs": [
    {
     "data": {
      "text/plain": [
       "0.200     464.21000\n",
       "0.750    1251.34250\n",
       "0.900    1740.35000\n",
       "0.950    2112.21000\n",
       "0.990    3084.08600\n",
       "0.999    4927.21625\n",
       "Name: Monthly Debt, dtype: float64"
      ]
     },
     "execution_count": 42,
     "metadata": {},
     "output_type": "execute_result"
    }
   ],
   "source": [
    "data['Monthly Debt'].quantile([.2,0.75,0.90,.95,0.99,.999])\n"
   ]
  },
  {
   "cell_type": "code",
   "execution_count": null,
   "metadata": {
    "colab": {
     "base_uri": "https://localhost:8080/"
    },
    "executionInfo": {
     "elapsed": 29,
     "status": "ok",
     "timestamp": 1644400710418,
     "user": {
      "displayName": "Siddhi Jadhav",
      "photoUrl": "https://lh3.googleusercontent.com/a/default-user=s64",
      "userId": "08402691859170607175"
     },
     "user_tz": -330
    },
    "id": "kuo8L4XO5TFE",
    "outputId": "3d2710b0-b739-45c0-c60d-15a78c8701f7"
   },
   "outputs": [
    {
     "data": {
      "text/plain": [
       "0.9995    5513.352425\n",
       "0.9999    7719.187600\n",
       "Name: Monthly Debt, dtype: float64"
      ]
     },
     "execution_count": 43,
     "metadata": {},
     "output_type": "execute_result"
    }
   ],
   "source": [
    "#Problem is with 99th percentile. lets dig deeper\n",
    "\n",
    "data['Monthly Debt'].quantile([0.9995,.9999])\n",
    "#So problem again is wit 99th percentile\n"
   ]
  },
  {
   "cell_type": "code",
   "execution_count": null,
   "metadata": {
    "colab": {
     "base_uri": "https://localhost:8080/"
    },
    "executionInfo": {
     "elapsed": 24,
     "status": "ok",
     "timestamp": 1644400710418,
     "user": {
      "displayName": "Siddhi Jadhav",
      "photoUrl": "https://lh3.googleusercontent.com/a/default-user=s64",
      "userId": "08402691859170607175"
     },
     "user_tz": -330
    },
    "id": "5jmNMF-q5U4V",
    "outputId": "652c3a3c-72c1-42b7-8fab-4aaa6ed3bf21"
   },
   "outputs": [
    {
     "data": {
      "text/plain": [
       "0.99970     5979.063765\n",
       "0.99999    11253.511940\n",
       "Name: Monthly Debt, dtype: float64"
      ]
     },
     "execution_count": 44,
     "metadata": {},
     "output_type": "execute_result"
    }
   ],
   "source": [
    "data['Monthly Debt'].quantile([0.9997,.99999])\n",
    "#0.99970     5978.574911\n",
    "#0.99999    13262.762330\n"
   ]
  },
  {
   "cell_type": "code",
   "execution_count": null,
   "metadata": {
    "colab": {
     "base_uri": "https://localhost:8080/"
    },
    "executionInfo": {
     "elapsed": 21,
     "status": "ok",
     "timestamp": 1644400710419,
     "user": {
      "displayName": "Siddhi Jadhav",
      "photoUrl": "https://lh3.googleusercontent.com/a/default-user=s64",
      "userId": "08402691859170607175"
     },
     "user_tz": -330
    },
    "id": "XDVLS5Iv5XCJ",
    "outputId": "f15c7f34-f7a9-4935-e5a4-21e394773152"
   },
   "outputs": [
    {
     "data": {
      "text/plain": [
       "0.999     4927.21625\n",
       "1.000    12055.68000\n",
       "Name: Monthly Debt, dtype: float64"
      ]
     },
     "execution_count": 45,
     "metadata": {},
     "output_type": "execute_result"
    }
   ],
   "source": [
    "data['Monthly Debt'].quantile([0.999,1])\n"
   ]
  },
  {
   "cell_type": "code",
   "execution_count": null,
   "metadata": {
    "colab": {
     "base_uri": "https://localhost:8080/",
     "height": 354
    },
    "executionInfo": {
     "elapsed": 681,
     "status": "ok",
     "timestamp": 1644400711083,
     "user": {
      "displayName": "Siddhi Jadhav",
      "photoUrl": "https://lh3.googleusercontent.com/a/default-user=s64",
      "userId": "08402691859170607175"
     },
     "user_tz": -330
    },
    "id": "UUkUQ8A35apF",
    "outputId": "63865723-286f-456a-cbde-97a9c8027792"
   },
   "outputs": [
    {
     "name": "stderr",
     "output_type": "stream",
     "text": [
      "/usr/local/lib/python3.7/dist-packages/seaborn/distributions.py:2557: FutureWarning: `distplot` is a deprecated function and will be removed in a future version. Please adapt your code to use either `displot` (a figure-level function with similar flexibility) or `histplot` (an axes-level function for histograms).\n",
      "  warnings.warn(msg, FutureWarning)\n"
     ]
    },
    {
     "data": {
      "text/plain": [
       "<AxesSubplot:xlabel='Monthly Debt', ylabel='Density'>"
      ]
     },
     "execution_count": 46,
     "metadata": {},
     "output_type": "execute_result"
    },
    {
     "data": {
      "image/png": "[encoded data removed]",
      "text/plain": [
       "<Figure size 432x288 with 1 Axes>"
      ]
     },
     "metadata": {
      "needs_background": "light"
     },
     "output_type": "display_data"
    }
   ],
   "source": [
    "#Need to replace this\n",
    "data.loc[data['Monthly Debt'] > 4926, 'Monthly Debt'] = 4926\n",
    "\n",
    "sns.distplot(data[\"Monthly Debt\"])\n",
    "#Now we get the right distribution\n"
   ]
  },
  {
   "cell_type": "code",
   "execution_count": null,
   "metadata": {
    "colab": {
     "base_uri": "https://localhost:8080/",
     "height": 354
    },
    "executionInfo": {
     "elapsed": 713,
     "status": "ok",
     "timestamp": 1644400711793,
     "user": {
      "displayName": "Siddhi Jadhav",
      "photoUrl": "https://lh3.googleusercontent.com/a/default-user=s64",
      "userId": "08402691859170607175"
     },
     "user_tz": -330
    },
    "id": "F-sPV37_5dfh",
    "outputId": "3a29b26a-d3b3-4f2d-b03b-3825eb3e0746"
   },
   "outputs": [
    {
     "name": "stderr",
     "output_type": "stream",
     "text": [
      "/usr/local/lib/python3.7/dist-packages/seaborn/distributions.py:2557: FutureWarning: `distplot` is a deprecated function and will be removed in a future version. Please adapt your code to use either `displot` (a figure-level function with similar flexibility) or `histplot` (an axes-level function for histograms).\n",
      "  warnings.warn(msg, FutureWarning)\n"
     ]
    },
    {
     "data": {
      "text/plain": [
       "<AxesSubplot:xlabel='Years of Credit History', ylabel='Density'>"
      ]
     },
     "execution_count": 47,
     "metadata": {},
     "output_type": "execute_result"
    },
    {
     "data": {
      "image/png": "[encoded data removed]",
      "text/plain": [
       "<Figure size 432x288 with 1 Axes>"
      ]
     },
     "metadata": {
      "needs_background": "light"
     },
     "output_type": "display_data"
    }
   ],
   "source": [
    "####################Years of credit history #################\n",
    "\n",
    "data['Years of Credit History'].value_counts()\n",
    "\n",
    "\n",
    "sns.distplot(data[\"Years of Credit History\"])\n",
    "#Over all looks pretty clean! no need of doing anything\n"
   ]
  },
  {
   "cell_type": "code",
   "execution_count": null,
   "metadata": {
    "colab": {
     "base_uri": "https://localhost:8080/"
    },
    "executionInfo": {
     "elapsed": 19,
     "status": "ok",
     "timestamp": 1644400711793,
     "user": {
      "displayName": "Siddhi Jadhav",
      "photoUrl": "https://lh3.googleusercontent.com/a/default-user=s64",
      "userId": "08402691859170607175"
     },
     "user_tz": -330
    },
    "id": "QXCgrTLE5hnY",
    "outputId": "10f134eb-8a70-4b12-bf59-cfd822d2b139"
   },
   "outputs": [
    {
     "data": {
      "text/plain": [
       "count    40404.000000\n",
       "mean        35.080289\n",
       "std         22.008583\n",
       "min          0.000000\n",
       "25%         16.000000\n",
       "50%         32.000000\n",
       "75%         51.000000\n",
       "max        176.000000\n",
       "Name: Months since last delinquent, dtype: float64"
      ]
     },
     "execution_count": 48,
     "metadata": {},
     "output_type": "execute_result"
    }
   ],
   "source": [
    "#############Months since last delinquent####################\n",
    "\n",
    "data['Months since last delinquent'].describe()\n"
   ]
  },
  {
   "cell_type": "code",
   "execution_count": null,
   "metadata": {
    "colab": {
     "base_uri": "https://localhost:8080/"
    },
    "executionInfo": {
     "elapsed": 15,
     "status": "ok",
     "timestamp": 1644400711793,
     "user": {
      "displayName": "Siddhi Jadhav",
      "photoUrl": "https://lh3.googleusercontent.com/a/default-user=s64",
      "userId": "08402691859170607175"
     },
     "user_tz": -330
    },
    "id": "P6SkuptO5jgy",
    "outputId": "7ee9737a-8f08-4ba8-bc6b-18a2657be2d7"
   },
   "outputs": [
    {
     "data": {
      "text/plain": [
       "48506"
      ]
     },
     "execution_count": 49,
     "metadata": {},
     "output_type": "execute_result"
    }
   ],
   "source": [
    "#Lets check if there are any NA's\n",
    "data['Months since last delinquent'].isna().sum()\n",
    "#We have nearly 48506 NA;s. We will try to handle them at last \n"
   ]
  },
  {
   "cell_type": "code",
   "execution_count": null,
   "metadata": {
    "colab": {
     "base_uri": "https://localhost:8080/"
    },
    "executionInfo": {
     "elapsed": 12,
     "status": "ok",
     "timestamp": 1644400711794,
     "user": {
      "displayName": "Siddhi Jadhav",
      "photoUrl": "https://lh3.googleusercontent.com/a/default-user=s64",
      "userId": "08402691859170607175"
     },
     "user_tz": -330
    },
    "id": "UrL8e8gM5vv9",
    "outputId": "e4579cda-9f0e-41cf-a61b-7d9bacc70fce"
   },
   "outputs": [
    {
     "data": {
      "text/plain": [
       "count    88910.000000\n",
       "mean        11.110348\n",
       "std          4.978461\n",
       "min          0.000000\n",
       "25%          8.000000\n",
       "50%         10.000000\n",
       "75%         14.000000\n",
       "max         76.000000\n",
       "Name: Number of Open Accounts, dtype: float64"
      ]
     },
     "execution_count": 50,
     "metadata": {},
     "output_type": "execute_result"
    }
   ],
   "source": [
    "##############Number of open accounts ##############\n",
    "\n",
    "data['Number of Open Accounts'].describe()\n",
    "#The max number seems odd. Lets investigate\n"
   ]
  },
  {
   "cell_type": "code",
   "execution_count": null,
   "metadata": {
    "colab": {
     "base_uri": "https://localhost:8080/",
     "height": 354
    },
    "executionInfo": {
     "elapsed": 1167,
     "status": "ok",
     "timestamp": 1644400712955,
     "user": {
      "displayName": "Siddhi Jadhav",
      "photoUrl": "https://lh3.googleusercontent.com/a/default-user=s64",
      "userId": "08402691859170607175"
     },
     "user_tz": -330
    },
    "id": "gkeztB-r5y34",
    "outputId": "284ff36f-7dec-4a49-c1a0-fbdbd3e1f135"
   },
   "outputs": [
    {
     "name": "stderr",
     "output_type": "stream",
     "text": [
      "/usr/local/lib/python3.7/dist-packages/seaborn/distributions.py:2557: FutureWarning: `distplot` is a deprecated function and will be removed in a future version. Please adapt your code to use either `displot` (a figure-level function with similar flexibility) or `histplot` (an axes-level function for histograms).\n",
      "  warnings.warn(msg, FutureWarning)\n"
     ]
    },
    {
     "data": {
      "text/plain": [
       "<AxesSubplot:xlabel='Number of Open Accounts', ylabel='Density'>"
      ]
     },
     "execution_count": 51,
     "metadata": {},
     "output_type": "execute_result"
    },
    {
     "data": {
      "image/png": "[encoded data removed]",
      "text/plain": [
       "<Figure size 432x288 with 1 Axes>"
      ]
     },
     "metadata": {
      "needs_background": "light"
     },
     "output_type": "display_data"
    }
   ],
   "source": [
    "sns.distplot(data['Number of Open Accounts'])\n",
    "#Yes there are outliers in this columns. Let dig deeper\n"
   ]
  },
  {
   "cell_type": "code",
   "execution_count": null,
   "metadata": {
    "colab": {
     "base_uri": "https://localhost:8080/"
    },
    "executionInfo": {
     "elapsed": 8,
     "status": "ok",
     "timestamp": 1644400712956,
     "user": {
      "displayName": "Siddhi Jadhav",
      "photoUrl": "https://lh3.googleusercontent.com/a/default-user=s64",
      "userId": "08402691859170607175"
     },
     "user_tz": -330
    },
    "id": "4zc6CnDF51X5",
    "outputId": "158bb4ba-88c5-4e86-d47a-abcc673f3c6e"
   },
   "outputs": [
    {
     "data": {
      "text/plain": [
       "0.750    14.0\n",
       "0.999    36.0\n",
       "1.000    76.0\n",
       "Name: Number of Open Accounts, dtype: float64"
      ]
     },
     "execution_count": 52,
     "metadata": {},
     "output_type": "execute_result"
    }
   ],
   "source": [
    "data['Number of Open Accounts'].quantile([0.75,0.999,1])\n",
    "#Ok so replacing anything greater than 99th percentile with 99th percentile values\n"
   ]
  },
  {
   "cell_type": "code",
   "execution_count": null,
   "metadata": {
    "colab": {
     "base_uri": "https://localhost:8080/",
     "height": 354
    },
    "executionInfo": {
     "elapsed": 787,
     "status": "ok",
     "timestamp": 1644400713738,
     "user": {
      "displayName": "Siddhi Jadhav",
      "photoUrl": "https://lh3.googleusercontent.com/a/default-user=s64",
      "userId": "08402691859170607175"
     },
     "user_tz": -330
    },
    "id": "s9TeoHd253x-",
    "outputId": "e61be011-f84c-4e1b-92c9-104c2d8239da"
   },
   "outputs": [
    {
     "name": "stderr",
     "output_type": "stream",
     "text": [
      "/usr/local/lib/python3.7/dist-packages/seaborn/distributions.py:2557: FutureWarning: `distplot` is a deprecated function and will be removed in a future version. Please adapt your code to use either `displot` (a figure-level function with similar flexibility) or `histplot` (an axes-level function for histograms).\n",
      "  warnings.warn(msg, FutureWarning)\n"
     ]
    },
    {
     "data": {
      "text/plain": [
       "<AxesSubplot:xlabel='Number of Open Accounts', ylabel='Density'>"
      ]
     },
     "execution_count": 53,
     "metadata": {},
     "output_type": "execute_result"
    },
    {
     "data": {
      "image/png": "[encoded data removed]",
      "text/plain": [
       "<Figure size 432x288 with 1 Axes>"
      ]
     },
     "metadata": {
      "needs_background": "light"
     },
     "output_type": "display_data"
    }
   ],
   "source": [
    "data.loc[data['Number of Open Accounts'] > 36, 'Number of Open Accounts'] = 36\n",
    "\n",
    "\n",
    "sns.distplot(data['Number of Open Accounts'])\n",
    "#Looks good now\n"
   ]
  },
  {
   "cell_type": "code",
   "execution_count": null,
   "metadata": {
    "colab": {
     "base_uri": "https://localhost:8080/",
     "height": 354
    },
    "executionInfo": {
     "elapsed": 897,
     "status": "ok",
     "timestamp": 1644400714631,
     "user": {
      "displayName": "Siddhi Jadhav",
      "photoUrl": "https://lh3.googleusercontent.com/a/default-user=s64",
      "userId": "08402691859170607175"
     },
     "user_tz": -330
    },
    "id": "bM0vr3CN6Cv0",
    "outputId": "c85c679a-761c-4335-e1bc-a4aeba280fc9"
   },
   "outputs": [
    {
     "name": "stderr",
     "output_type": "stream",
     "text": [
      "/usr/local/lib/python3.7/dist-packages/seaborn/distributions.py:2557: FutureWarning: `distplot` is a deprecated function and will be removed in a future version. Please adapt your code to use either `displot` (a figure-level function with similar flexibility) or `histplot` (an axes-level function for histograms).\n",
      "  warnings.warn(msg, FutureWarning)\n"
     ]
    },
    {
     "data": {
      "text/plain": [
       "<AxesSubplot:xlabel='Number of Credit Problems', ylabel='Density'>"
      ]
     },
     "execution_count": 54,
     "metadata": {},
     "output_type": "execute_result"
    },
    {
     "data": {
      "image/png": "[encoded data removed]",
      "text/plain": [
       "<Figure size 432x288 with 1 Axes>"
      ]
     },
     "metadata": {
      "needs_background": "light"
     },
     "output_type": "display_data"
    }
   ],
   "source": [
    "\n",
    "#######################Number of Credit problems##############\n",
    "\n",
    "data['Number of Credit Problems'].describe() \n",
    "#Max looks a bit higher. Lets see\n",
    "\n",
    "sns.distplot(data['Number of Credit Problems'])\n"
   ]
  },
  {
   "cell_type": "code",
   "execution_count": null,
   "metadata": {
    "colab": {
     "base_uri": "https://localhost:8080/"
    },
    "executionInfo": {
     "elapsed": 6,
     "status": "ok",
     "timestamp": 1644400714632,
     "user": {
      "displayName": "Siddhi Jadhav",
      "photoUrl": "https://lh3.googleusercontent.com/a/default-user=s64",
      "userId": "08402691859170607175"
     },
     "user_tz": -330
    },
    "id": "woLE1MtM6EsG",
    "outputId": "490809fb-a368-400f-c4bf-329f08969a1e"
   },
   "outputs": [
    {
     "data": {
      "text/plain": [
       "0     77057\n",
       "1     10271\n",
       "2      1092\n",
       "3       311\n",
       "4       101\n",
       "5        46\n",
       "6        14\n",
       "7         6\n",
       "9         4\n",
       "10        3\n",
       "8         2\n",
       "12        1\n",
       "15        1\n",
       "11        1\n",
       "Name: Number of Credit Problems, dtype: int64"
      ]
     },
     "execution_count": 55,
     "metadata": {},
     "output_type": "execute_result"
    }
   ],
   "source": [
    "#Okay lets look at value _counts\n",
    "\n",
    "\n",
    "data['Number of Credit Problems'].value_counts()\n",
    "\n",
    "#Okay looks good\n"
   ]
  },
  {
   "cell_type": "code",
   "execution_count": null,
   "metadata": {
    "colab": {
     "base_uri": "https://localhost:8080/",
     "height": 365
    },
    "executionInfo": {
     "elapsed": 940,
     "status": "ok",
     "timestamp": 1644400715568,
     "user": {
      "displayName": "Siddhi Jadhav",
      "photoUrl": "https://lh3.googleusercontent.com/a/default-user=s64",
      "userId": "08402691859170607175"
     },
     "user_tz": -330
    },
    "id": "aug_2Xh76Grm",
    "outputId": "31ac476c-7f16-4466-b263-688899a5a81a"
   },
   "outputs": [
    {
     "name": "stderr",
     "output_type": "stream",
     "text": [
      "/usr/local/lib/python3.7/dist-packages/seaborn/distributions.py:2557: FutureWarning: `distplot` is a deprecated function and will be removed in a future version. Please adapt your code to use either `displot` (a figure-level function with similar flexibility) or `histplot` (an axes-level function for histograms).\n",
      "  warnings.warn(msg, FutureWarning)\n"
     ]
    },
    {
     "data": {
      "text/plain": [
       "<AxesSubplot:xlabel='Current Credit Balance', ylabel='Density'>"
      ]
     },
     "execution_count": 56,
     "metadata": {},
     "output_type": "execute_result"
    },
    {
     "data": {
      "image/png": "[encoded data removed]",
      "text/plain": [
       "<Figure size 432x288 with 1 Axes>"
      ]
     },
     "metadata": {
      "needs_background": "light"
     },
     "output_type": "display_data"
    }
   ],
   "source": [
    "##################Current Credit Balance###########\n",
    "\n",
    "data['Current Credit Balance'].describe()\n",
    "\n",
    "sns.distplot(data['Current Credit Balance'])\n",
    "#It seems there are outliers in this data. Lets investigate\n"
   ]
  },
  {
   "cell_type": "code",
   "execution_count": null,
   "metadata": {
    "colab": {
     "base_uri": "https://localhost:8080/"
    },
    "executionInfo": {
     "elapsed": 11,
     "status": "ok",
     "timestamp": 1644400715569,
     "user": {
      "displayName": "Siddhi Jadhav",
      "photoUrl": "https://lh3.googleusercontent.com/a/default-user=s64",
      "userId": "08402691859170607175"
     },
     "user_tz": -330
    },
    "id": "X2CTOTS86H7S",
    "outputId": "691e2a5d-41d8-4f82-cb6a-8aa1e6492c5e"
   },
   "outputs": [
    {
     "data": {
      "text/plain": [
       "0.750      19301.000\n",
       "0.950      39933.300\n",
       "0.999     227670.033\n",
       "1.000    1730472.000\n",
       "Name: Current Credit Balance, dtype: float64"
      ]
     },
     "execution_count": 57,
     "metadata": {},
     "output_type": "execute_result"
    }
   ],
   "source": [
    "data['Current Credit Balance'].quantile([0.75,0.95,0.999,1])\n"
   ]
  },
  {
   "cell_type": "code",
   "execution_count": null,
   "metadata": {
    "colab": {
     "base_uri": "https://localhost:8080/"
    },
    "executionInfo": {
     "elapsed": 8,
     "status": "ok",
     "timestamp": 1644400715569,
     "user": {
      "displayName": "Siddhi Jadhav",
      "photoUrl": "https://lh3.googleusercontent.com/a/default-user=s64",
      "userId": "08402691859170607175"
     },
     "user_tz": -330
    },
    "id": "PIZ14d9I6Kjw",
    "outputId": "579ef76b-9702-48b0-8f9f-dcc07fe5ef27"
   },
   "outputs": [
    {
     "data": {
      "text/plain": [
       "0.95      39933.30\n",
       "0.96      43501.20\n",
       "0.97      48507.73\n",
       "0.98      57938.12\n",
       "0.99      81007.19\n",
       "1.00    1730472.00\n",
       "Name: Current Credit Balance, dtype: float64"
      ]
     },
     "execution_count": 58,
     "metadata": {},
     "output_type": "execute_result"
    }
   ],
   "source": [
    "#lets dig deeper\n",
    "\n",
    "data['Current Credit Balance'].quantile([0.95,0.96,0.97,0.98,0.99,1])\n"
   ]
  },
  {
   "cell_type": "code",
   "execution_count": null,
   "metadata": {
    "colab": {
     "base_uri": "https://localhost:8080/"
    },
    "executionInfo": {
     "elapsed": 6,
     "status": "ok",
     "timestamp": 1644400715569,
     "user": {
      "displayName": "Siddhi Jadhav",
      "photoUrl": "https://lh3.googleusercontent.com/a/default-user=s64",
      "userId": "08402691859170607175"
     },
     "user_tz": -330
    },
    "id": "3V665O4R6Mod",
    "outputId": "5904c564-6820-4510-d825-d7a2a09978d9"
   },
   "outputs": [
    {
     "data": {
      "text/plain": [
       "0.55      12295.00\n",
       "0.76      19805.84\n",
       "0.87      27525.66\n",
       "0.98      57938.12\n",
       "0.99      81007.19\n",
       "1.00    1730472.00\n",
       "Name: Current Credit Balance, dtype: float64"
      ]
     },
     "execution_count": 59,
     "metadata": {},
     "output_type": "execute_result"
    }
   ],
   "source": [
    "#So lets replace it with 95th percentile\n",
    "\n",
    "data['Current Credit Balance'].quantile([0.55,0.76,0.87,0.98,0.99,1])\n"
   ]
  },
  {
   "cell_type": "code",
   "execution_count": null,
   "metadata": {
    "colab": {
     "base_uri": "https://localhost:8080/",
     "height": 354
    },
    "executionInfo": {
     "elapsed": 725,
     "status": "ok",
     "timestamp": 1644400716290,
     "user": {
      "displayName": "Siddhi Jadhav",
      "photoUrl": "https://lh3.googleusercontent.com/a/default-user=s64",
      "userId": "08402691859170607175"
     },
     "user_tz": -330
    },
    "id": "heG831W96Ovi",
    "outputId": "f9b699e0-4cea-4411-f787-bf0458ba1dd3"
   },
   "outputs": [
    {
     "name": "stderr",
     "output_type": "stream",
     "text": [
      "/usr/local/lib/python3.7/dist-packages/seaborn/distributions.py:2557: FutureWarning: `distplot` is a deprecated function and will be removed in a future version. Please adapt your code to use either `displot` (a figure-level function with similar flexibility) or `histplot` (an axes-level function for histograms).\n",
      "  warnings.warn(msg, FutureWarning)\n"
     ]
    },
    {
     "data": {
      "text/plain": [
       "<AxesSubplot:xlabel='Current Credit Balance', ylabel='Density'>"
      ]
     },
     "execution_count": 60,
     "metadata": {},
     "output_type": "execute_result"
    },
    {
     "data": {
      "image/png": "[encoded data removed]",
      "text/plain": [
       "<Figure size 432x288 with 1 Axes>"
      ]
     },
     "metadata": {
      "needs_background": "light"
     },
     "output_type": "display_data"
    }
   ],
   "source": [
    "data.loc[data['Current Credit Balance'] > 81007, 'Current Credit Balance'] = 81007\n",
    "\n",
    "\n",
    "sns.distplot(data['Current Credit Balance']**(1/2))\n",
    "#The plot doesnt look good. We need to transform it\n"
   ]
  },
  {
   "cell_type": "code",
   "execution_count": null,
   "metadata": {
    "id": "cxDA0Kz46Q1s"
   },
   "outputs": [],
   "source": [
    "data['Current Credit Balance']=data['Current Credit Balance']**(1/2)\n"
   ]
  },
  {
   "cell_type": "code",
   "execution_count": null,
   "metadata": {
    "colab": {
     "base_uri": "https://localhost:8080/"
    },
    "executionInfo": {
     "elapsed": 10,
     "status": "ok",
     "timestamp": 1644400716291,
     "user": {
      "displayName": "Siddhi Jadhav",
      "photoUrl": "https://lh3.googleusercontent.com/a/default-user=s64",
      "userId": "08402691859170607175"
     },
     "user_tz": -330
    },
    "id": "LmRwOBcQ6UgS",
    "outputId": "12cd22bd-2ab4-429d-f635-ba4d2ddb51c7"
   },
   "outputs": [
    {
     "data": {
      "text/plain": [
       "count     88910\n",
       "unique    58216\n",
       "top           0\n",
       "freq        450\n",
       "Name: Maximum Open Credit, dtype: object"
      ]
     },
     "execution_count": 62,
     "metadata": {},
     "output_type": "execute_result"
    }
   ],
   "source": [
    "#######################Max open credit################\n",
    "\n",
    "data['Maximum Open Credit'].describe()\n"
   ]
  },
  {
   "cell_type": "code",
   "execution_count": null,
   "metadata": {
    "colab": {
     "base_uri": "https://localhost:8080/"
    },
    "executionInfo": {
     "elapsed": 8,
     "status": "ok",
     "timestamp": 1644400716292,
     "user": {
      "displayName": "Siddhi Jadhav",
      "photoUrl": "https://lh3.googleusercontent.com/a/default-user=s64",
      "userId": "08402691859170607175"
     },
     "user_tz": -330
    },
    "id": "hN6dTA_A6WgQ",
    "outputId": "92037d56-a111-4634-e97e-b40b546686e0"
   },
   "outputs": [
    {
     "data": {
      "text/plain": [
       "0         450\n",
       "0         160\n",
       "15847       9\n",
       "17464       9\n",
       "6827        8\n",
       "         ... \n",
       "28296       1\n",
       "10199       1\n",
       "132602      1\n",
       "10395       1\n",
       "21124       1\n",
       "Name: Maximum Open Credit, Length: 58216, dtype: int64"
      ]
     },
     "execution_count": 63,
     "metadata": {},
     "output_type": "execute_result"
    }
   ],
   "source": [
    "data['Maximum Open Credit'].value_counts()\n"
   ]
  },
  {
   "cell_type": "code",
   "execution_count": null,
   "metadata": {
    "id": "qIuv-oKR6Yu7"
   },
   "outputs": [],
   "source": [
    "#sns.distplot(data['Maximum Open Credit'])\n",
    "#So there are some str characters present in the data. Lets find them\n",
    "#could not convert string to float: '#VALUE!'\n"
   ]
  },
  {
   "cell_type": "code",
   "execution_count": null,
   "metadata": {
    "id": "mGP6RWlq6Z8m"
   },
   "outputs": [],
   "source": [
    "#pd.to_numeric(data['Maximum Open Credit'])\n",
    "#Unable to parse string \"#VALUE!\" at position 4930"
   ]
  },
  {
   "cell_type": "code",
   "execution_count": null,
   "metadata": {
    "id": "7JKwAXW16dAB"
   },
   "outputs": [],
   "source": [
    "#Lets replace #value with Nan\n",
    "data['Maximum Open Credit']=data['Maximum Open Credit'].replace('#VALUE!', np.nan, regex=True)\n"
   ]
  },
  {
   "cell_type": "code",
   "execution_count": null,
   "metadata": {
    "id": "giIS_wU96erR"
   },
   "outputs": [],
   "source": [
    "data['Maximum Open Credit']=pd.to_numeric(data['Maximum Open Credit'])\n"
   ]
  },
  {
   "cell_type": "code",
   "execution_count": null,
   "metadata": {
    "colab": {
     "base_uri": "https://localhost:8080/"
    },
    "executionInfo": {
     "elapsed": 29,
     "status": "ok",
     "timestamp": 1644400716778,
     "user": {
      "displayName": "Siddhi Jadhav",
      "photoUrl": "https://lh3.googleusercontent.com/a/default-user=s64",
      "userId": "08402691859170607175"
     },
     "user_tz": -330
    },
    "id": "BgrU60uB6qtn",
    "outputId": "a43c0f20-7198-458d-d9e1-a088f5db8a84"
   },
   "outputs": [
    {
     "data": {
      "text/plain": [
       "2"
      ]
     },
     "execution_count": 68,
     "metadata": {},
     "output_type": "execute_result"
    }
   ],
   "source": [
    "data['Maximum Open Credit'].isnull().sum()\n",
    "#Now we have only 2 Nan;s in the data. Lets replace them with mean  \n"
   ]
  },
  {
   "cell_type": "code",
   "execution_count": null,
   "metadata": {
    "id": "80SyQVKg6v9u"
   },
   "outputs": [],
   "source": [
    "data['Maximum Open Credit']=data['Maximum Open Credit'].fillna(35965)\n"
   ]
  },
  {
   "cell_type": "code",
   "execution_count": null,
   "metadata": {
    "colab": {
     "base_uri": "https://localhost:8080/"
    },
    "executionInfo": {
     "elapsed": 23,
     "status": "ok",
     "timestamp": 1644400716778,
     "user": {
      "displayName": "Siddhi Jadhav",
      "photoUrl": "https://lh3.googleusercontent.com/a/default-user=s64",
      "userId": "08402691859170607175"
     },
     "user_tz": -330
    },
    "id": "tsphMtOl6xlA",
    "outputId": "66dba9f6-63c9-4ae7-b52b-660d9c20ca53"
   },
   "outputs": [
    {
     "data": {
      "text/plain": [
       "0.55       24037.95\n",
       "0.76       37259.84\n",
       "0.87       50736.66\n",
       "0.98      114682.56\n",
       "0.99      171423.91\n",
       "1.00    69988086.00\n",
       "Name: Maximum Open Credit, dtype: float64"
      ]
     },
     "execution_count": 70,
     "metadata": {},
     "output_type": "execute_result"
    }
   ],
   "source": [
    "data['Maximum Open Credit'].quantile([0.55,0.76,0.87,0.98,0.99,1])\n",
    "\n"
   ]
  },
  {
   "cell_type": "code",
   "execution_count": null,
   "metadata": {
    "id": "Y-bwxysQ6z5e"
   },
   "outputs": [],
   "source": [
    "#Lets replace the outliers\n",
    "data.loc[data['Maximum Open Credit'] > 171423, 'Maximum Open Credit'] = 171423\n"
   ]
  },
  {
   "cell_type": "code",
   "execution_count": null,
   "metadata": {
    "colab": {
     "base_uri": "https://localhost:8080/"
    },
    "executionInfo": {
     "elapsed": 19,
     "status": "ok",
     "timestamp": 1644400716779,
     "user": {
      "displayName": "Siddhi Jadhav",
      "photoUrl": "https://lh3.googleusercontent.com/a/default-user=s64",
      "userId": "08402691859170607175"
     },
     "user_tz": -330
    },
    "id": "zGLsq9-G62xh",
    "outputId": "ee35197d-2598-4f07-e0ac-a531fa87f920"
   },
   "outputs": [
    {
     "data": {
      "text/plain": [
       "count    88718.000000\n",
       "mean         0.112672\n",
       "std          0.343300\n",
       "min          0.000000\n",
       "25%          0.000000\n",
       "50%          0.000000\n",
       "75%          0.000000\n",
       "max          7.000000\n",
       "Name: Bankruptcies, dtype: float64"
      ]
     },
     "execution_count": 72,
     "metadata": {},
     "output_type": "execute_result"
    }
   ],
   "source": [
    "###############Bankruptcies##########\n",
    "data['Bankruptcies'].describe()\n"
   ]
  },
  {
   "cell_type": "code",
   "execution_count": null,
   "metadata": {
    "colab": {
     "base_uri": "https://localhost:8080/"
    },
    "executionInfo": {
     "elapsed": 15,
     "status": "ok",
     "timestamp": 1644400716779,
     "user": {
      "displayName": "Siddhi Jadhav",
      "photoUrl": "https://lh3.googleusercontent.com/a/default-user=s64",
      "userId": "08402691859170607175"
     },
     "user_tz": -330
    },
    "id": "svQF_vyL65Yk",
    "outputId": "4d0696ff-bb86-4f79-9317-e8f9215fb6bb"
   },
   "outputs": [
    {
     "data": {
      "text/plain": [
       "0.0    79323\n",
       "1.0     8936\n",
       "2.0      353\n",
       "3.0       80\n",
       "4.0       19\n",
       "5.0        5\n",
       "7.0        1\n",
       "6.0        1\n",
       "Name: Bankruptcies, dtype: int64"
      ]
     },
     "execution_count": 73,
     "metadata": {},
     "output_type": "execute_result"
    }
   ],
   "source": [
    "data['Bankruptcies'].value_counts()\n"
   ]
  },
  {
   "cell_type": "code",
   "execution_count": null,
   "metadata": {
    "colab": {
     "base_uri": "https://localhost:8080/"
    },
    "executionInfo": {
     "elapsed": 12,
     "status": "ok",
     "timestamp": 1644400716779,
     "user": {
      "displayName": "Siddhi Jadhav",
      "photoUrl": "https://lh3.googleusercontent.com/a/default-user=s64",
      "userId": "08402691859170607175"
     },
     "user_tz": -330
    },
    "id": "RN3BTL0S69TS",
    "outputId": "884ea139-fc90-4a7c-db4f-e8820e7be4aa"
   },
   "outputs": [
    {
     "data": {
      "text/plain": [
       "array([ 0.,  1., nan,  2.,  4.,  3.,  5.,  7.,  6.])"
      ]
     },
     "execution_count": 74,
     "metadata": {},
     "output_type": "execute_result"
    }
   ],
   "source": [
    "data['Bankruptcies'].unique()\n",
    "\n",
    "#So we have Nan's. Lets fill them with median\n"
   ]
  },
  {
   "cell_type": "code",
   "execution_count": null,
   "metadata": {
    "id": "1gbCLGqD6-hG"
   },
   "outputs": [],
   "source": [
    "data['Bankruptcies']=data['Bankruptcies'].fillna(3)\n"
   ]
  },
  {
   "cell_type": "code",
   "execution_count": null,
   "metadata": {
    "colab": {
     "base_uri": "https://localhost:8080/"
    },
    "executionInfo": {
     "elapsed": 10,
     "status": "ok",
     "timestamp": 1644400716779,
     "user": {
      "displayName": "Siddhi Jadhav",
      "photoUrl": "https://lh3.googleusercontent.com/a/default-user=s64",
      "userId": "08402691859170607175"
     },
     "user_tz": -330
    },
    "id": "F06nUq9Y7CnX",
    "outputId": "b94f41d5-5d46-4fa3-97ba-0cd2ed50716d"
   },
   "outputs": [
    {
     "data": {
      "text/plain": [
       "count    88902.000000\n",
       "mean         0.028222\n",
       "std          0.257533\n",
       "min          0.000000\n",
       "25%          0.000000\n",
       "50%          0.000000\n",
       "75%          0.000000\n",
       "max         15.000000\n",
       "Name: Tax Liens, dtype: float64"
      ]
     },
     "execution_count": 76,
     "metadata": {},
     "output_type": "execute_result"
    }
   ],
   "source": [
    "####Tax Liens######\n",
    "\n",
    "data['Tax Liens'].describe()\n"
   ]
  },
  {
   "cell_type": "code",
   "execution_count": null,
   "metadata": {
    "colab": {
     "base_uri": "https://localhost:8080/"
    },
    "executionInfo": {
     "elapsed": 8,
     "status": "ok",
     "timestamp": 1644400716779,
     "user": {
      "displayName": "Siddhi Jadhav",
      "photoUrl": "https://lh3.googleusercontent.com/a/default-user=s64",
      "userId": "08402691859170607175"
     },
     "user_tz": -330
    },
    "id": "X2t-MGQv7F7w",
    "outputId": "a46b611e-7c90-4617-9a49-724e6bbf358f"
   },
   "outputs": [
    {
     "data": {
      "text/plain": [
       "0.0     87274\n",
       "1.0      1132\n",
       "2.0       305\n",
       "3.0        99\n",
       "4.0        52\n",
       "5.0        17\n",
       "6.0         9\n",
       "7.0         5\n",
       "9.0         4\n",
       "8.0         2\n",
       "15.0        1\n",
       "10.0        1\n",
       "11.0        1\n",
       "Name: Tax Liens, dtype: int64"
      ]
     },
     "execution_count": 77,
     "metadata": {},
     "output_type": "execute_result"
    }
   ],
   "source": [
    "data['Tax Liens'].value_counts()\n",
    "\n"
   ]
  },
  {
   "cell_type": "code",
   "execution_count": null,
   "metadata": {
    "colab": {
     "base_uri": "https://localhost:8080/"
    },
    "executionInfo": {
     "elapsed": 7,
     "status": "ok",
     "timestamp": 1644400716780,
     "user": {
      "displayName": "Siddhi Jadhav",
      "photoUrl": "https://lh3.googleusercontent.com/a/default-user=s64",
      "userId": "08402691859170607175"
     },
     "user_tz": -330
    },
    "id": "CUcCLP-81iIJ",
    "outputId": "cf6f4086-e7d5-4fbc-bf97-b9e9e120eb1f"
   },
   "outputs": [
    {
     "data": {
      "text/plain": [
       "array([0., 1., 3., 2., 4., 5., 7., 6.])"
      ]
     },
     "execution_count": 78,
     "metadata": {},
     "output_type": "execute_result"
    }
   ],
   "source": [
    "data['Bankruptcies'].unique()\n",
    "###Looks good"
   ]
  },
  {
   "cell_type": "code",
   "execution_count": null,
   "metadata": {
    "id": "QhAYXmTI10R_"
   },
   "outputs": [],
   "source": [
    "cat_cols = ['Term','Years in current job','Home Ownership','Purpose']\n",
    "\n",
    "for c in cat_cols:\n",
    "    data[c] = pd.factorize(data[c])[0]"
   ]
  },
  {
   "cell_type": "code",
   "execution_count": null,
   "metadata": {
    "colab": {
     "base_uri": "https://localhost:8080/"
    },
    "executionInfo": {
     "elapsed": 12432,
     "status": "ok",
     "timestamp": 1644400729206,
     "user": {
      "displayName": "Siddhi Jadhav",
      "photoUrl": "https://lh3.googleusercontent.com/a/default-user=s64",
      "userId": "08402691859170607175"
     },
     "user_tz": -330
    },
    "id": "nZHJqhHq16Gi",
    "outputId": "d7a47598-93ad-4ab9-d1f6-f7af52b4cdda"
   },
   "outputs": [
    {
     "name": "stdout",
     "output_type": "stream",
     "text": [
      "[SoftImpute] Max Singular Value of X_init = 23092221.868378\n",
      "[SoftImpute] Iter 1: observed MAE=261.480152 rank=3\n",
      "[SoftImpute] Iter 2: observed MAE=258.548469 rank=3\n",
      "[SoftImpute] Iter 3: observed MAE=258.207662 rank=3\n",
      "[SoftImpute] Iter 4: observed MAE=258.184852 rank=3\n",
      "[SoftImpute] Iter 5: observed MAE=258.204643 rank=3\n",
      "[SoftImpute] Iter 6: observed MAE=258.230069 rank=3\n",
      "[SoftImpute] Iter 7: observed MAE=258.255573 rank=3\n",
      "[SoftImpute] Iter 8: observed MAE=258.280106 rank=3\n",
      "[SoftImpute] Iter 9: observed MAE=258.303449 rank=3\n",
      "[SoftImpute] Iter 10: observed MAE=258.325504 rank=3\n",
      "[SoftImpute] Iter 11: observed MAE=258.346214 rank=3\n",
      "[SoftImpute] Iter 12: observed MAE=258.365509 rank=3\n",
      "[SoftImpute] Iter 13: observed MAE=258.383517 rank=3\n",
      "[SoftImpute] Iter 14: observed MAE=258.400220 rank=3\n",
      "[SoftImpute] Iter 15: observed MAE=258.415645 rank=3\n",
      "[SoftImpute] Iter 16: observed MAE=258.429899 rank=3\n",
      "[SoftImpute] Iter 17: observed MAE=258.443135 rank=3\n",
      "[SoftImpute] Iter 18: observed MAE=258.455321 rank=3\n",
      "[SoftImpute] Iter 19: observed MAE=258.466406 rank=3\n",
      "[SoftImpute] Iter 20: observed MAE=258.476502 rank=3\n",
      "[SoftImpute] Iter 21: observed MAE=258.485635 rank=3\n",
      "[SoftImpute] Iter 22: observed MAE=258.493976 rank=3\n",
      "[SoftImpute] Iter 23: observed MAE=258.501425 rank=3\n",
      "[SoftImpute] Iter 24: observed MAE=258.507980 rank=3\n",
      "[SoftImpute] Iter 25: observed MAE=258.513757 rank=3\n",
      "[SoftImpute] Iter 26: observed MAE=258.518806 rank=3\n",
      "[SoftImpute] Iter 27: observed MAE=258.523130 rank=3\n",
      "[SoftImpute] Iter 28: observed MAE=258.526828 rank=3\n",
      "[SoftImpute] Iter 29: observed MAE=258.529886 rank=3\n",
      "[SoftImpute] Iter 30: observed MAE=258.532257 rank=3\n",
      "[SoftImpute] Iter 31: observed MAE=258.534040 rank=3\n",
      "[SoftImpute] Iter 32: observed MAE=258.535239 rank=3\n",
      "[SoftImpute] Iter 33: observed MAE=258.535873 rank=3\n",
      "[SoftImpute] Iter 34: observed MAE=258.536000 rank=3\n",
      "[SoftImpute] Iter 35: observed MAE=258.535693 rank=3\n",
      "[SoftImpute] Iter 36: observed MAE=258.535026 rank=3\n",
      "[SoftImpute] Iter 37: observed MAE=258.533982 rank=3\n",
      "[SoftImpute] Iter 38: observed MAE=258.532591 rank=3\n",
      "[SoftImpute] Iter 39: observed MAE=258.530805 rank=3\n",
      "[SoftImpute] Iter 40: observed MAE=258.528646 rank=3\n",
      "[SoftImpute] Iter 41: observed MAE=258.526223 rank=3\n",
      "[SoftImpute] Iter 42: observed MAE=258.523509 rank=3\n",
      "[SoftImpute] Iter 43: observed MAE=258.520516 rank=3\n",
      "[SoftImpute] Iter 44: observed MAE=258.517318 rank=3\n",
      "[SoftImpute] Iter 45: observed MAE=258.513880 rank=3\n",
      "[SoftImpute] Iter 46: observed MAE=258.510209 rank=3\n",
      "[SoftImpute] Iter 47: observed MAE=258.506342 rank=3\n",
      "[SoftImpute] Iter 48: observed MAE=258.502311 rank=3\n",
      "[SoftImpute] Iter 49: observed MAE=258.498112 rank=3\n",
      "[SoftImpute] Iter 50: observed MAE=258.493786 rank=3\n",
      "[SoftImpute] Iter 51: observed MAE=258.489328 rank=3\n",
      "[SoftImpute] Iter 52: observed MAE=258.484735 rank=3\n",
      "[SoftImpute] Iter 53: observed MAE=258.480028 rank=3\n",
      "[SoftImpute] Iter 54: observed MAE=258.475212 rank=3\n",
      "[SoftImpute] Iter 55: observed MAE=258.470313 rank=3\n",
      "[SoftImpute] Iter 56: observed MAE=258.465350 rank=3\n",
      "[SoftImpute] Iter 57: observed MAE=258.460351 rank=3\n",
      "[SoftImpute] Iter 58: observed MAE=258.455289 rank=3\n",
      "[SoftImpute] Iter 59: observed MAE=258.450157 rank=3\n",
      "[SoftImpute] Iter 60: observed MAE=258.445012 rank=3\n",
      "[SoftImpute] Iter 61: observed MAE=258.439854 rank=3\n",
      "[SoftImpute] Iter 62: observed MAE=258.434672 rank=3\n",
      "[SoftImpute] Iter 63: observed MAE=258.429471 rank=3\n",
      "[SoftImpute] Iter 64: observed MAE=258.424248 rank=3\n",
      "[SoftImpute] Iter 65: observed MAE=258.418984 rank=3\n",
      "[SoftImpute] Iter 66: observed MAE=258.413706 rank=3\n",
      "[SoftImpute] Iter 67: observed MAE=258.408428 rank=3\n",
      "[SoftImpute] Iter 68: observed MAE=258.403171 rank=3\n",
      "[SoftImpute] Iter 69: observed MAE=258.397945 rank=3\n",
      "[SoftImpute] Iter 70: observed MAE=258.392752 rank=3\n",
      "[SoftImpute] Iter 71: observed MAE=258.387569 rank=3\n",
      "[SoftImpute] Iter 72: observed MAE=258.382405 rank=3\n",
      "[SoftImpute] Iter 73: observed MAE=258.377262 rank=3\n",
      "[SoftImpute] Iter 74: observed MAE=258.372153 rank=3\n",
      "[SoftImpute] Iter 75: observed MAE=258.367101 rank=3\n",
      "[SoftImpute] Iter 76: observed MAE=258.362084 rank=3\n",
      "[SoftImpute] Iter 77: observed MAE=258.357117 rank=3\n",
      "[SoftImpute] Iter 78: observed MAE=258.352195 rank=3\n",
      "[SoftImpute] Iter 79: observed MAE=258.347319 rank=3\n",
      "[SoftImpute] Iter 80: observed MAE=258.342510 rank=3\n",
      "[SoftImpute] Iter 81: observed MAE=258.337753 rank=3\n",
      "[SoftImpute] Iter 82: observed MAE=258.333054 rank=3\n",
      "[SoftImpute] Iter 83: observed MAE=258.328416 rank=3\n",
      "[SoftImpute] Iter 84: observed MAE=258.323839 rank=3\n",
      "[SoftImpute] Iter 85: observed MAE=258.319325 rank=3\n",
      "[SoftImpute] Iter 86: observed MAE=258.314876 rank=3\n",
      "[SoftImpute] Iter 87: observed MAE=258.310482 rank=3\n",
      "[SoftImpute] Iter 88: observed MAE=258.306147 rank=3\n",
      "[SoftImpute] Iter 89: observed MAE=258.301868 rank=3\n",
      "[SoftImpute] Iter 90: observed MAE=258.297650 rank=3\n",
      "[SoftImpute] Iter 91: observed MAE=258.293496 rank=3\n",
      "[SoftImpute] Iter 92: observed MAE=258.289402 rank=3\n",
      "[SoftImpute] Iter 93: observed MAE=258.285366 rank=3\n",
      "[SoftImpute] Iter 94: observed MAE=258.281392 rank=3\n",
      "[SoftImpute] Iter 95: observed MAE=258.277476 rank=3\n",
      "[SoftImpute] Iter 96: observed MAE=258.273621 rank=3\n",
      "[SoftImpute] Iter 97: observed MAE=258.269832 rank=3\n",
      "[SoftImpute] Iter 98: observed MAE=258.266108 rank=3\n",
      "[SoftImpute] Iter 99: observed MAE=258.262452 rank=3\n",
      "[SoftImpute] Iter 100: observed MAE=258.258864 rank=3\n",
      "[SoftImpute] Stopped after iteration 100 for lambda=461844.437368\n"
     ]
    }
   ],
   "source": [
    "#Imputing missing data with soft impute\n",
    "updated_data=pd.DataFrame(data=SoftImpute().fit_transform(data[data.columns[3:19]],), columns=data[data.columns[3:19]].columns, index=data.index)\n",
    "#Getting the dataset ready pd.get dummies function for dropping the dummy variables\n",
    "df_LC = pd.get_dummies(updated_data, drop_first=True)"
   ]
  },
  {
   "cell_type": "code",
   "execution_count": null,
   "metadata": {
    "colab": {
     "base_uri": "https://localhost:8080/"
    },
    "executionInfo": {
     "elapsed": 625,
     "status": "ok",
     "timestamp": 1644400729822,
     "user": {
      "displayName": "Siddhi Jadhav",
      "photoUrl": "https://lh3.googleusercontent.com/a/default-user=s64",
      "userId": "08402691859170607175"
     },
     "user_tz": -330
    },
    "id": "ddDq2gpJ2A1f",
    "outputId": "5ccefed7-9946-4f70-f512-2ca82aeb9139"
   },
   "outputs": [
    {
     "name": "stdout",
     "output_type": "stream",
     "text": [
      "[[-0.1869176  -0.57302977  0.06886311 ... -0.79845518 -0.32295035\n",
      "  -0.10958408]\n",
      " [ 1.48349848  1.74511004  0.26644983 ...  1.83825771 -0.32295035\n",
      "  -0.10958408]\n",
      " [ 0.32079375 -0.57302977 -0.08920626 ... -0.53977375  2.39304617\n",
      "  -0.10958408]\n",
      " ...\n",
      " [ 1.40247376 -0.57302977  0.78017528 ...  0.91232955 -0.32295035\n",
      "  -0.10958408]\n",
      " [-1.1281112  -0.57302977 -0.16824094 ... -0.4039368  -0.32295035\n",
      "  -0.10958408]\n",
      " [ 0.62515919 -0.57302977 -0.32631031 ... -0.30218149 -0.32295035\n",
      "   3.77361205]]\n",
      "   \n",
      "(88910, 16)\n"
     ]
    }
   ],
   "source": [
    "\n",
    "#Binarizing the Target variable\n",
    "lb_style = LabelBinarizer()\n",
    "lb_results = lb_style.fit_transform(data['Loan Status'])\n",
    "y=lb_results\n",
    "y=y.ravel()\n",
    "\n",
    "\n",
    "#Scaling the independent variables\n",
    "X_scaled = preprocessing.scale(df_LC)\n",
    "print(X_scaled)\n",
    "print('   ')\n",
    "print(X_scaled.shape)\n"
   ]
  },
  {
   "cell_type": "code",
   "execution_count": null,
   "metadata": {
    "id": "mDmj6_Dk2D1G"
   },
   "outputs": [],
   "source": [
    "#######Looking at other models using different classifiers\n",
    "X_train, X_test, y_train, y_test = train_test_split(X_scaled, y, test_size=0.3, random_state=22)"
   ]
  },
  {
   "cell_type": "code",
   "execution_count": null,
   "metadata": {
    "colab": {
     "base_uri": "https://localhost:8080/",
     "height": 1000
    },
    "executionInfo": {
     "elapsed": 62085,
     "status": "ok",
     "timestamp": 1644400791903,
     "user": {
      "displayName": "Siddhi Jadhav",
      "photoUrl": "https://lh3.googleusercontent.com/a/default-user=s64",
      "userId": "08402691859170607175"
     },
     "user_tz": -330
    },
    "id": "DG8i8SLz2GZg",
    "outputId": "33fe0da8-98e5-4fb6-cf01-ec0507f175e0"
   },
   "outputs": [
    {
     "name": "stderr",
     "output_type": "stream",
     "text": [
      "/usr/local/lib/python3.7/dist-packages/xgboost/sklearn.py:1224: UserWarning: The use of label encoder in XGBClassifier is deprecated and will be removed in a future release. To remove this warning, do the following: 1) Pass option use_label_encoder=False when constructing XGBClassifier object; and 2) Encode your labels (y) as integers starting with 0, i.e. 0, 1, 2, ..., [num_class - 1].\n",
      "  warnings.warn(label_encoder_deprecation_msg, UserWarning)\n"
     ]
    },
    {
     "name": "stdout",
     "output_type": "stream",
     "text": [
      "[09:58:50] WARNING: ../src/learner.cc:1115: Starting in XGBoost 1.3.0, the default evaluation metric used with the objective 'binary:logistic' was changed from 'error' to 'logloss'. Explicitly set eval_metric if you'd like to restore the old behavior.\n",
      "Accuracy:  0.7276646796385858\n",
      "Area under the ROC curve:  0.7437786371367399\n",
      "F-metric:  0.38419803323160395\n",
      " \n",
      "Classification report:\n",
      "              precision    recall  f1-score   support\n",
      "\n",
      "           0       0.76      0.90      0.83     18981\n",
      "           1       0.55      0.29      0.38      7692\n",
      "\n",
      "    accuracy                           0.73     26673\n",
      "   macro avg       0.66      0.60      0.60     26673\n",
      "weighted avg       0.70      0.73      0.70     26673\n",
      "\n",
      " \n",
      "Evaluation by cross-validation:\n"
     ]
    },
    {
     "name": "stderr",
     "output_type": "stream",
     "text": [
      "/usr/local/lib/python3.7/dist-packages/xgboost/sklearn.py:1224: UserWarning: The use of label encoder in XGBClassifier is deprecated and will be removed in a future release. To remove this warning, do the following: 1) Pass option use_label_encoder=False when constructing XGBClassifier object; and 2) Encode your labels (y) as integers starting with 0, i.e. 0, 1, 2, ..., [num_class - 1].\n",
      "  warnings.warn(label_encoder_deprecation_msg, UserWarning)\n"
     ]
    },
    {
     "name": "stdout",
     "output_type": "stream",
     "text": [
      "[09:59:02] WARNING: ../src/learner.cc:1115: Starting in XGBoost 1.3.0, the default evaluation metric used with the objective 'binary:logistic' was changed from 'error' to 'logloss'. Explicitly set eval_metric if you'd like to restore the old behavior.\n"
     ]
    },
    {
     "name": "stderr",
     "output_type": "stream",
     "text": [
      "/usr/local/lib/python3.7/dist-packages/xgboost/sklearn.py:1224: UserWarning: The use of label encoder in XGBClassifier is deprecated and will be removed in a future release. To remove this warning, do the following: 1) Pass option use_label_encoder=False when constructing XGBClassifier object; and 2) Encode your labels (y) as integers starting with 0, i.e. 0, 1, 2, ..., [num_class - 1].\n",
      "  warnings.warn(label_encoder_deprecation_msg, UserWarning)\n"
     ]
    },
    {
     "name": "stdout",
     "output_type": "stream",
     "text": [
      "[09:59:12] WARNING: ../src/learner.cc:1115: Starting in XGBoost 1.3.0, the default evaluation metric used with the objective 'binary:logistic' was changed from 'error' to 'logloss'. Explicitly set eval_metric if you'd like to restore the old behavior.\n"
     ]
    },
    {
     "name": "stderr",
     "output_type": "stream",
     "text": [
      "/usr/local/lib/python3.7/dist-packages/xgboost/sklearn.py:1224: UserWarning: The use of label encoder in XGBClassifier is deprecated and will be removed in a future release. To remove this warning, do the following: 1) Pass option use_label_encoder=False when constructing XGBClassifier object; and 2) Encode your labels (y) as integers starting with 0, i.e. 0, 1, 2, ..., [num_class - 1].\n",
      "  warnings.warn(label_encoder_deprecation_msg, UserWarning)\n"
     ]
    },
    {
     "name": "stdout",
     "output_type": "stream",
     "text": [
      "[09:59:21] WARNING: ../src/learner.cc:1115: Starting in XGBoost 1.3.0, the default evaluation metric used with the objective 'binary:logistic' was changed from 'error' to 'logloss'. Explicitly set eval_metric if you'd like to restore the old behavior.\n"
     ]
    },
    {
     "name": "stderr",
     "output_type": "stream",
     "text": [
      "/usr/local/lib/python3.7/dist-packages/xgboost/sklearn.py:1224: UserWarning: The use of label encoder in XGBClassifier is deprecated and will be removed in a future release. To remove this warning, do the following: 1) Pass option use_label_encoder=False when constructing XGBClassifier object; and 2) Encode your labels (y) as integers starting with 0, i.e. 0, 1, 2, ..., [num_class - 1].\n",
      "  warnings.warn(label_encoder_deprecation_msg, UserWarning)\n"
     ]
    },
    {
     "name": "stdout",
     "output_type": "stream",
     "text": [
      "[09:59:31] WARNING: ../src/learner.cc:1115: Starting in XGBoost 1.3.0, the default evaluation metric used with the objective 'binary:logistic' was changed from 'error' to 'logloss'. Explicitly set eval_metric if you'd like to restore the old behavior.\n"
     ]
    },
    {
     "name": "stderr",
     "output_type": "stream",
     "text": [
      "/usr/local/lib/python3.7/dist-packages/xgboost/sklearn.py:1224: UserWarning: The use of label encoder in XGBClassifier is deprecated and will be removed in a future release. To remove this warning, do the following: 1) Pass option use_label_encoder=False when constructing XGBClassifier object; and 2) Encode your labels (y) as integers starting with 0, i.e. 0, 1, 2, ..., [num_class - 1].\n",
      "  warnings.warn(label_encoder_deprecation_msg, UserWarning)\n"
     ]
    },
    {
     "name": "stdout",
     "output_type": "stream",
     "text": [
      "[09:59:41] WARNING: ../src/learner.cc:1115: Starting in XGBoost 1.3.0, the default evaluation metric used with the objective 'binary:logistic' was changed from 'error' to 'logloss'. Explicitly set eval_metric if you'd like to restore the old behavior.\n",
      "[0.73088046 0.73762853 0.73150157 0.73150157 0.72740419]\n",
      "[0.15770203 0.25137326 0.16299246 0.02831689 0.04490009 0.04055737\n",
      " 0.03080421 0.03046158 0.02761248 0.02706706 0.02785725 0.02524857\n",
      " 0.03073877 0.03578309 0.03659303 0.0419918 ]\n"
     ]
    },
    {
     "data": {
      "image/png": "[encoded data removed]",
      "text/plain": [
       "<Figure size 432x288 with 1 Axes>"
      ]
     },
     "metadata": {
      "needs_background": "light"
     },
     "output_type": "display_data"
    }
   ],
   "source": [
    "#Finding accuracy and feature importance using XGB classifier\n",
    "xgb0, y_pred_b, y_pred2_b = classify(XGBClassifier(), X_train, y_train,X_test,y_test)\n",
    "print(xgb0.feature_importances_)\n",
    "plot_importance(xgb0)\n",
    "pyplot.show()\n",
    "feat1 = feat_importance(xgb0)\n"
   ]
  },
  {
   "cell_type": "code",
   "execution_count": null,
   "metadata": {
    "colab": {
     "base_uri": "https://localhost:8080/"
    },
    "executionInfo": {
     "elapsed": 30582,
     "status": "ok",
     "timestamp": 1644400822472,
     "user": {
      "displayName": "Siddhi Jadhav",
      "photoUrl": "https://lh3.googleusercontent.com/a/default-user=s64",
      "userId": "08402691859170607175"
     },
     "user_tz": -330
    },
    "id": "Wz1Fd1u22M0j",
    "outputId": "61d703c0-ff21-4a19-88fd-d4020d3a16c3"
   },
   "outputs": [
    {
     "name": "stderr",
     "output_type": "stream",
     "text": [
      "/usr/local/lib/python3.7/dist-packages/xgboost/sklearn.py:1224: UserWarning: The use of label encoder in XGBClassifier is deprecated and will be removed in a future release. To remove this warning, do the following: 1) Pass option use_label_encoder=False when constructing XGBClassifier object; and 2) Encode your labels (y) as integers starting with 0, i.e. 0, 1, 2, ..., [num_class - 1].\n",
      "  warnings.warn(label_encoder_deprecation_msg, UserWarning)\n"
     ]
    },
    {
     "name": "stdout",
     "output_type": "stream",
     "text": [
      "[09:59:52] WARNING: ../src/learner.cc:1115: Starting in XGBoost 1.3.0, the default evaluation metric used with the objective 'binary:logistic' was changed from 'error' to 'logloss'. Explicitly set eval_metric if you'd like to restore the old behavior.\n",
      "Accuracy:  0.7290893412814456\n",
      "Area under the ROC curve:  0.7381679994031858\n",
      "F-metric:  0.3351122561648877\n",
      " \n",
      "Classification report:\n",
      "              precision    recall  f1-score   support\n",
      "\n",
      "           0       0.75      0.93      0.83     18981\n",
      "           1       0.57      0.24      0.34      7692\n",
      "\n",
      "    accuracy                           0.73     26673\n",
      "   macro avg       0.66      0.58      0.58     26673\n",
      "weighted avg       0.70      0.73      0.69     26673\n",
      "\n",
      " \n",
      "Evaluation by cross-validation:\n"
     ]
    },
    {
     "name": "stderr",
     "output_type": "stream",
     "text": [
      "/usr/local/lib/python3.7/dist-packages/xgboost/sklearn.py:1224: UserWarning: The use of label encoder in XGBClassifier is deprecated and will be removed in a future release. To remove this warning, do the following: 1) Pass option use_label_encoder=False when constructing XGBClassifier object; and 2) Encode your labels (y) as integers starting with 0, i.e. 0, 1, 2, ..., [num_class - 1].\n",
      "  warnings.warn(label_encoder_deprecation_msg, UserWarning)\n"
     ]
    },
    {
     "name": "stdout",
     "output_type": "stream",
     "text": [
      "[09:59:58] WARNING: ../src/learner.cc:1115: Starting in XGBoost 1.3.0, the default evaluation metric used with the objective 'binary:logistic' was changed from 'error' to 'logloss'. Explicitly set eval_metric if you'd like to restore the old behavior.\n"
     ]
    },
    {
     "name": "stderr",
     "output_type": "stream",
     "text": [
      "/usr/local/lib/python3.7/dist-packages/xgboost/sklearn.py:1224: UserWarning: The use of label encoder in XGBClassifier is deprecated and will be removed in a future release. To remove this warning, do the following: 1) Pass option use_label_encoder=False when constructing XGBClassifier object; and 2) Encode your labels (y) as integers starting with 0, i.e. 0, 1, 2, ..., [num_class - 1].\n",
      "  warnings.warn(label_encoder_deprecation_msg, UserWarning)\n"
     ]
    },
    {
     "name": "stdout",
     "output_type": "stream",
     "text": [
      "[10:00:02] WARNING: ../src/learner.cc:1115: Starting in XGBoost 1.3.0, the default evaluation metric used with the objective 'binary:logistic' was changed from 'error' to 'logloss'. Explicitly set eval_metric if you'd like to restore the old behavior.\n"
     ]
    },
    {
     "name": "stderr",
     "output_type": "stream",
     "text": [
      "/usr/local/lib/python3.7/dist-packages/xgboost/sklearn.py:1224: UserWarning: The use of label encoder in XGBClassifier is deprecated and will be removed in a future release. To remove this warning, do the following: 1) Pass option use_label_encoder=False when constructing XGBClassifier object; and 2) Encode your labels (y) as integers starting with 0, i.e. 0, 1, 2, ..., [num_class - 1].\n",
      "  warnings.warn(label_encoder_deprecation_msg, UserWarning)\n"
     ]
    },
    {
     "name": "stdout",
     "output_type": "stream",
     "text": [
      "[10:00:07] WARNING: ../src/learner.cc:1115: Starting in XGBoost 1.3.0, the default evaluation metric used with the objective 'binary:logistic' was changed from 'error' to 'logloss'. Explicitly set eval_metric if you'd like to restore the old behavior.\n"
     ]
    },
    {
     "name": "stderr",
     "output_type": "stream",
     "text": [
      "/usr/local/lib/python3.7/dist-packages/xgboost/sklearn.py:1224: UserWarning: The use of label encoder in XGBClassifier is deprecated and will be removed in a future release. To remove this warning, do the following: 1) Pass option use_label_encoder=False when constructing XGBClassifier object; and 2) Encode your labels (y) as integers starting with 0, i.e. 0, 1, 2, ..., [num_class - 1].\n",
      "  warnings.warn(label_encoder_deprecation_msg, UserWarning)\n"
     ]
    },
    {
     "name": "stdout",
     "output_type": "stream",
     "text": [
      "[10:00:12] WARNING: ../src/learner.cc:1115: Starting in XGBoost 1.3.0, the default evaluation metric used with the objective 'binary:logistic' was changed from 'error' to 'logloss'. Explicitly set eval_metric if you'd like to restore the old behavior.\n"
     ]
    },
    {
     "name": "stderr",
     "output_type": "stream",
     "text": [
      "/usr/local/lib/python3.7/dist-packages/xgboost/sklearn.py:1224: UserWarning: The use of label encoder in XGBClassifier is deprecated and will be removed in a future release. To remove this warning, do the following: 1) Pass option use_label_encoder=False when constructing XGBClassifier object; and 2) Encode your labels (y) as integers starting with 0, i.e. 0, 1, 2, ..., [num_class - 1].\n",
      "  warnings.warn(label_encoder_deprecation_msg, UserWarning)\n"
     ]
    },
    {
     "name": "stdout",
     "output_type": "stream",
     "text": [
      "[10:00:18] WARNING: ../src/learner.cc:1115: Starting in XGBoost 1.3.0, the default evaluation metric used with the objective 'binary:logistic' was changed from 'error' to 'logloss'. Explicitly set eval_metric if you'd like to restore the old behavior.\n",
      "[0.73666452 0.74116324 0.73608098 0.73664337 0.73013578]\n"
     ]
    }
   ],
   "source": [
    "xgb0, y_pred_b, y_pred2_b = classify(XGBClassifier(n_estimators=47, learning_rate=0.015), X_train, y_train,X_test,y_test)"
   ]
  },
  {
   "cell_type": "code",
   "execution_count": null,
   "metadata": {
    "colab": {
     "base_uri": "https://localhost:8080/"
    },
    "executionInfo": {
     "elapsed": 127481,
     "status": "ok",
     "timestamp": 1644400949930,
     "user": {
      "displayName": "Siddhi Jadhav",
      "photoUrl": "https://lh3.googleusercontent.com/a/default-user=s64",
      "userId": "08402691859170607175"
     },
     "user_tz": -330
    },
    "id": "lTDGHAjm78iY",
    "outputId": "a1a21ddb-ff68-4a6f-ae22-4ee8c89ccb89"
   },
   "outputs": [
    {
     "name": "stdout",
     "output_type": "stream",
     "text": [
      "Accuracy:  0.6839500618603082\n",
      "Area under the ROC curve:  0.6073078340129547\n",
      "F-metric:  0.30992141453831046\n",
      " \n",
      "Classification report:\n",
      "              precision    recall  f1-score   support\n",
      "\n",
      "           0       0.74      0.86      0.80     18981\n",
      "           1       0.42      0.25      0.31      7692\n",
      "\n",
      "    accuracy                           0.68     26673\n",
      "   macro avg       0.58      0.55      0.55     26673\n",
      "weighted avg       0.65      0.68      0.66     26673\n",
      "\n",
      " \n",
      "Evaluation by cross-validation:\n",
      "[0.69368573 0.69705977 0.69783884 0.69141159 0.68747489]\n"
     ]
    }
   ],
   "source": [
    "#######K nearest Neighbour classifier ################\n",
    "\n",
    "knc, y_p, y_p2 = classify(KNeighborsClassifier(), X_train, y_train,X_test,y_test)\n"
   ]
  },
  {
   "cell_type": "code",
   "execution_count": null,
   "metadata": {
    "colab": {
     "base_uri": "https://localhost:8080/"
    },
    "executionInfo": {
     "elapsed": 1276,
     "status": "ok",
     "timestamp": 1644400951203,
     "user": {
      "displayName": "Siddhi Jadhav",
      "photoUrl": "https://lh3.googleusercontent.com/a/default-user=s64",
      "userId": "08402691859170607175"
     },
     "user_tz": -330
    },
    "id": "XnQkIMC87_Ng",
    "outputId": "d225baa5-9578-41e2-e638-4454a8e41e4e"
   },
   "outputs": [
    {
     "name": "stdout",
     "output_type": "stream",
     "text": [
      "Accuracy:  0.7201289693697747\n",
      "Area under the ROC curve:  0.6722709585903062\n",
      "F-metric:  0.21213720316622697\n",
      " \n",
      "Classification report:\n",
      "              precision    recall  f1-score   support\n",
      "\n",
      "           0       0.73      0.96      0.83     18981\n",
      "           1       0.56      0.13      0.21      7692\n",
      "\n",
      "    accuracy                           0.72     26673\n",
      "   macro avg       0.65      0.54      0.52     26673\n",
      "weighted avg       0.68      0.72      0.65     26673\n",
      "\n",
      " \n",
      "Evaluation by cross-validation:\n",
      "[0.72606041 0.72919344 0.72812726 0.7282076  0.72684181]\n"
     ]
    }
   ],
   "source": [
    "########Logistic Regression ##############\n",
    "logit, y_p, y_p2 = classify(LogisticRegression(), X_train, y_train,X_test,y_test)"
   ]
  },
  {
   "cell_type": "code",
   "execution_count": null,
   "metadata": {
    "colab": {
     "base_uri": "https://localhost:8080/"
    },
    "executionInfo": {
     "elapsed": 4728,
     "status": "ok",
     "timestamp": 1644400955929,
     "user": {
      "displayName": "Siddhi Jadhav",
      "photoUrl": "https://lh3.googleusercontent.com/a/default-user=s64",
      "userId": "08402691859170607175"
     },
     "user_tz": -330
    },
    "id": "gdj_OMv_2Qtk",
    "outputId": "38fd958b-6ab6-4204-ac99-8c2ba761364b"
   },
   "outputs": [
    {
     "name": "stdout",
     "output_type": "stream",
     "text": [
      "Accuracy:  0.6518576838000975\n",
      "Area under the ROC curve:  0.5790952295591429\n",
      "F-metric:  0.40282958199356916\n",
      " \n",
      "Classification report:\n",
      "              precision    recall  f1-score   support\n",
      "\n",
      "           0       0.76      0.75      0.75     18981\n",
      "           1       0.40      0.41      0.40      7692\n",
      "\n",
      "    accuracy                           0.65     26673\n",
      "   macro avg       0.58      0.58      0.58     26673\n",
      "weighted avg       0.65      0.65      0.65     26673\n",
      "\n",
      " \n",
      "Evaluation by cross-validation:\n",
      "[0.65713368 0.65745501 0.65549932 0.66128384 0.65268739]\n"
     ]
    }
   ],
   "source": [
    "########Decision Tree Classifier ##########\n",
    "dtc, y_p, y_p2 = classify(DecisionTreeClassifier(), X_train, y_train,X_test,y_test)"
   ]
  },
  {
   "cell_type": "code",
   "execution_count": null,
   "metadata": {
    "colab": {
     "base_uri": "https://localhost:8080/",
     "height": 711
    },
    "executionInfo": {
     "elapsed": 26706,
     "status": "ok",
     "timestamp": 1644400982629,
     "user": {
      "displayName": "Siddhi Jadhav",
      "photoUrl": "https://lh3.googleusercontent.com/a/default-user=s64",
      "userId": "08402691859170607175"
     },
     "user_tz": -330
    },
    "id": "lTZCkByg2VBg",
    "outputId": "8decc3d6-84f7-4101-f8df-1227079d6e00"
   },
   "outputs": [
    {
     "name": "stdout",
     "output_type": "stream",
     "text": [
      "computing GradientBoosting - Non-balanced \n",
      "computing LogisticRegression - Non-balanced \n",
      "computing RandomForestClassifier - Non-balanced \n"
     ]
    },
    {
     "name": "stderr",
     "output_type": "stream",
     "text": [
      "/usr/local/lib/python3.7/dist-packages/xgboost/sklearn.py:1224: UserWarning: The use of label encoder in XGBClassifier is deprecated and will be removed in a future release. To remove this warning, do the following: 1) Pass option use_label_encoder=False when constructing XGBClassifier object; and 2) Encode your labels (y) as integers starting with 0, i.e. 0, 1, 2, ..., [num_class - 1].\n",
      "  warnings.warn(label_encoder_deprecation_msg, UserWarning)\n"
     ]
    },
    {
     "name": "stdout",
     "output_type": "stream",
     "text": [
      "[10:02:49] WARNING: ../src/learner.cc:1115: Starting in XGBoost 1.3.0, the default evaluation metric used with the objective 'binary:logistic' was changed from 'error' to 'logloss'. Explicitly set eval_metric if you'd like to restore the old behavior.\n",
      "computing XGBClassifier - Non-balanced \n"
     ]
    },
    {
     "data": {
      "text/html": [
       "\n",
       "  <div id=\"df-508edd4d-cf1a-4f7e-9b14-e132060febde\">\n",
       "    <div class=\"colab-df-container\">\n",
       "      <div>\n",
       "<style scoped>\n",
       "    .dataframe tbody tr th:only-of-type {\n",
       "        vertical-align: middle;\n",
       "    }\n",
       "\n",
       "    .dataframe tbody tr th {\n",
       "        vertical-align: top;\n",
       "    }\n",
       "\n",
       "    .dataframe thead th {\n",
       "        text-align: right;\n",
       "    }\n",
       "</style>\n",
       "<table border=\"1\" class=\"dataframe\">\n",
       "  <thead>\n",
       "    <tr style=\"text-align: right;\">\n",
       "      <th></th>\n",
       "      <th>model</th>\n",
       "      <th>matthews_corrcoef</th>\n",
       "      <th>roc_auc_score</th>\n",
       "      <th>precision_score</th>\n",
       "      <th>recall_score</th>\n",
       "      <th>f1_score</th>\n",
       "      <th>model_type</th>\n",
       "    </tr>\n",
       "  </thead>\n",
       "  <tbody>\n",
       "    <tr>\n",
       "      <th>0</th>\n",
       "      <td>GradientBoosting</td>\n",
       "      <td>0.242773</td>\n",
       "      <td>0.753738</td>\n",
       "      <td>0.576281</td>\n",
       "      <td>0.250296</td>\n",
       "      <td>0.349008</td>\n",
       "      <td>Non-balanced</td>\n",
       "    </tr>\n",
       "    <tr>\n",
       "      <th>1</th>\n",
       "      <td>LogisticRegression</td>\n",
       "      <td>0.158180</td>\n",
       "      <td>0.672405</td>\n",
       "      <td>0.554031</td>\n",
       "      <td>0.127651</td>\n",
       "      <td>0.207495</td>\n",
       "      <td>Non-balanced</td>\n",
       "    </tr>\n",
       "    <tr>\n",
       "      <th>2</th>\n",
       "      <td>RandomForestClassifier</td>\n",
       "      <td>0.199133</td>\n",
       "      <td>0.701102</td>\n",
       "      <td>0.510873</td>\n",
       "      <td>0.244500</td>\n",
       "      <td>0.330720</td>\n",
       "      <td>Non-balanced</td>\n",
       "    </tr>\n",
       "    <tr>\n",
       "      <th>3</th>\n",
       "      <td>XGBClassifier</td>\n",
       "      <td>0.245700</td>\n",
       "      <td>0.743843</td>\n",
       "      <td>0.547578</td>\n",
       "      <td>0.290344</td>\n",
       "      <td>0.379477</td>\n",
       "      <td>Non-balanced</td>\n",
       "    </tr>\n",
       "  </tbody>\n",
       "</table>\n",
       "</div>\n",
       "      <button class=\"colab-df-convert\" onclick=\"convertToInteractive('df-508edd4d-cf1a-4f7e-9b14-e132060febde')\"\n",
       "              title=\"Convert this dataframe to an interactive table.\"\n",
       "              style=\"display:none;\">\n",
       "        \n",
       "  <svg xmlns=\"http://www.w3.org/2000/svg\" height=\"24px\"viewBox=\"0 0 24 24\"\n",
       "       width=\"24px\">\n",
       "    <path d=\"M0 0h24v24H0V0z\" fill=\"none\"/>\n",
       "    <path d=\"M18.56 5.44l.94 2.06.94-2.06 2.06-.94-2.06-.94-.94-2.06-.94 2.06-2.06.94zm-11 1L8.5 8.5l.94-2.06 2.06-.94-2.06-.94L8.5 2.5l-.94 2.06-2.06.94zm10 10l.94 2.06.94-2.06 2.06-.94-2.06-.94-.94-2.06-.94 2.06-2.06.94z\"/><path d=\"M17.41 7.96l-1.37-1.37c-.4-.4-.92-.59-1.43-.59-.52 0-1.04.2-1.43.59L10.3 9.45l-7.72 7.72c-.78.78-.78 2.05 0 2.83L4 21.41c.39.39.9.59 1.41.59.51 0 1.02-.2 1.41-.59l7.78-7.78 2.81-2.81c.8-.78.8-2.07 0-2.86zM5.41 20L4 18.59l7.72-7.72 1.47 1.35L5.41 20z\"/>\n",
       "  </svg>\n",
       "      </button>\n",
       "      \n",
       "  <style>\n",
       "    .colab-df-container {\n",
       "      display:flex;\n",
       "      flex-wrap:wrap;\n",
       "      gap: 12px;\n",
       "    }\n",
       "\n",
       "    .colab-df-convert {\n",
       "      background-color: #E8F0FE;\n",
       "      border: none;\n",
       "      border-radius: 50%;\n",
       "      cursor: pointer;\n",
       "      display: none;\n",
       "      fill: #1967D2;\n",
       "      height: 32px;\n",
       "      padding: 0 0 0 0;\n",
       "      width: 32px;\n",
       "    }\n",
       "\n",
       "    .colab-df-convert:hover {\n",
       "      background-color: #E2EBFA;\n",
       "      box-shadow: 0px 1px 2px rgba(60, 64, 67, 0.3), 0px 1px 3px 1px rgba(60, 64, 67, 0.15);\n",
       "      fill: #174EA6;\n",
       "    }\n",
       "\n",
       "    [theme=dark] .colab-df-convert {\n",
       "      background-color: #3B4455;\n",
       "      fill: #D2E3FC;\n",
       "    }\n",
       "\n",
       "    [theme=dark] .colab-df-convert:hover {\n",
       "      background-color: #434B5C;\n",
       "      box-shadow: 0px 1px 3px 1px rgba(0, 0, 0, 0.15);\n",
       "      filter: drop-shadow(0px 1px 2px rgba(0, 0, 0, 0.3));\n",
       "      fill: #FFFFFF;\n",
       "    }\n",
       "  </style>\n",
       "\n",
       "      <script>\n",
       "        const buttonEl =\n",
       "          document.querySelector('#df-508edd4d-cf1a-4f7e-9b14-e132060febde button.colab-df-convert');\n",
       "        buttonEl.style.display =\n",
       "          google.colab.kernel.accessAllowed ? 'block' : 'none';\n",
       "\n",
       "        async function convertToInteractive(key) {\n",
       "          const element = document.querySelector('#df-508edd4d-cf1a-4f7e-9b14-e132060febde');\n",
       "          const dataTable =\n",
       "            await google.colab.kernel.invokeFunction('convertToInteractive',\n",
       "                                                     [key], {});\n",
       "          if (!dataTable) return;\n",
       "\n",
       "          const docLinkHtml = 'Like what you see? Visit the ' +\n",
       "            '<a target=\"_blank\" href=https://colab.research.google.com/notebooks/data_table.ipynb>data table notebook</a>'\n",
       "            + ' to learn more about interactive tables.';\n",
       "          element.innerHTML = '';\n",
       "          dataTable['output_type'] = 'display_data';\n",
       "          await google.colab.output.renderOutput(dataTable, element);\n",
       "          const docLink = document.createElement('div');\n",
       "          docLink.innerHTML = docLinkHtml;\n",
       "          element.appendChild(docLink);\n",
       "        }\n",
       "      </script>\n",
       "    </div>\n",
       "  </div>\n",
       "  "
      ],
      "text/plain": [
       "                    model  matthews_corrcoef  ...  f1_score    model_type\n",
       "0        GradientBoosting           0.242773  ...  0.349008  Non-balanced\n",
       "1      LogisticRegression           0.158180  ...  0.207495  Non-balanced\n",
       "2  RandomForestClassifier           0.199133  ...  0.330720  Non-balanced\n",
       "3           XGBClassifier           0.245700  ...  0.379477  Non-balanced\n",
       "\n",
       "[4 rows x 7 columns]"
      ]
     },
     "execution_count": 88,
     "metadata": {},
     "output_type": "execute_result"
    },
    {
     "data": {
      "image/png": "[encoded data removed]",
      "text/plain": [
       "<Figure size 432x432 with 1 Axes>"
      ]
     },
     "metadata": {
      "needs_background": "light"
     },
     "output_type": "display_data"
    }
   ],
   "source": [
    "X_train, X_test, y_train, y_test = train_test_split(X_scaled, y, test_size=0.3, random_state=0)\n",
    "models_report, conf_matrix = run_models(X_train, y_train, X_test, y_test, model_type = 'Non-balanced')\n",
    "models_report"
   ]
  },
  {
   "cell_type": "code",
   "execution_count": null,
   "metadata": {
    "colab": {
     "base_uri": "https://localhost:8080/",
     "height": 553
    },
    "executionInfo": {
     "elapsed": 32316,
     "status": "ok",
     "timestamp": 1644401014934,
     "user": {
      "displayName": "Siddhi Jadhav",
      "photoUrl": "https://lh3.googleusercontent.com/a/default-user=s64",
      "userId": "08402691859170607175"
     },
     "user_tz": -330
    },
    "id": "t1okYTxx8IZg",
    "outputId": "75d99a18-7f69-4677-8b8c-0294f3543a8f"
   },
   "outputs": [
    {
     "name": "stdout",
     "output_type": "stream",
     "text": [
      "computing GradientBoosting - Balanced \n",
      "computing LogisticRegression - Balanced \n",
      "computing RandomForestClassifier - Balanced \n"
     ]
    },
    {
     "name": "stderr",
     "output_type": "stream",
     "text": [
      "/usr/local/lib/python3.7/dist-packages/xgboost/sklearn.py:1224: UserWarning: The use of label encoder in XGBClassifier is deprecated and will be removed in a future release. To remove this warning, do the following: 1) Pass option use_label_encoder=False when constructing XGBClassifier object; and 2) Encode your labels (y) as integers starting with 0, i.e. 0, 1, 2, ..., [num_class - 1].\n",
      "  warnings.warn(label_encoder_deprecation_msg, UserWarning)\n"
     ]
    },
    {
     "name": "stdout",
     "output_type": "stream",
     "text": [
      "[10:03:20] WARNING: ../src/learner.cc:1115: Starting in XGBoost 1.3.0, the default evaluation metric used with the objective 'binary:logistic' was changed from 'error' to 'logloss'. Explicitly set eval_metric if you'd like to restore the old behavior.\n",
      "computing XGBClassifier - Balanced \n"
     ]
    },
    {
     "data": {
      "image/png": "[encoded data removed]",
      "text/plain": [
       "<Figure size 432x432 with 1 Axes>"
      ]
     },
     "metadata": {
      "needs_background": "light"
     },
     "output_type": "display_data"
    }
   ],
   "source": [
    "###########Synthetically balancing the dataset##################\n",
    "index_split = int(len(X_scaled)/2)\n",
    "X_train, y_train = SMOTE().fit_resample(X_scaled[0:index_split, :], y[0:index_split])\n",
    "X_test, y_test = X_scaled[index_split:], y[index_split:]\n",
    "models_report_bal, conf_matrix_bal = run_models(X_train, y_train, X_test, y_test, model_type = 'Balanced')"
   ]
  },
  {
   "cell_type": "code",
   "execution_count": null,
   "metadata": {
    "colab": {
     "base_uri": "https://localhost:8080/"
    },
    "executionInfo": {
     "elapsed": 15557,
     "status": "ok",
     "timestamp": 1644401030488,
     "user": {
      "displayName": "Siddhi Jadhav",
      "photoUrl": "https://lh3.googleusercontent.com/a/default-user=s64",
      "userId": "08402691859170607175"
     },
     "user_tz": -330
    },
    "id": "k4z7TaJG8LfF",
    "outputId": "30da0bca-3ce2-4fd3-fc28-e86c5ec3f04f"
   },
   "outputs": [
    {
     "data": {
      "text/plain": [
       "['GBM_Model_version1.pkl']"
      ]
     },
     "execution_count": 90,
     "metadata": {},
     "output_type": "execute_result"
    }
   ],
   "source": [
    "################Now we  know that GBM model performed the best so \n",
    "# save model\n",
    "gbm=GradientBoostingClassifier(max_depth= 6, n_estimators=100, max_features = 0.3)\n",
    "gbm.fit(X_scaled, y)\n",
    "joblib.dump(gbm, 'GBM_Model_version1.pkl')\n",
    "# load model\n",
    "#gbm_pickle = joblib.load('GBM_Model_version1.pkl')"
   ]
  }
 ],
 "metadata": {
  "colab": {
   "collapsed_sections": [],
   "name": "Loan_Eligibility_Prediction_using_Gradient_Boosting_Classifier_prediction.ipynb",
   "provenance": []
  },
  "kernelspec": {
   "display_name": "Python 3 (ipykernel)",
   "language": "python",
   "name": "python3"
  },
  "language_info": {
   "codemirror_mode": {
    "name": "ipython",
    "version": 3
   },
   "file_extension": ".py",
   "mimetype": "text/x-python",
   "name": "python",
   "nbconvert_exporter": "python",
   "pygments_lexer": "ipython3",
   "version": "3.9.12"
  }
 },
 "nbformat": 4,
 "nbformat_minor": 1
}
